{
  "nbformat": 4,
  "nbformat_minor": 0,
  "metadata": {
    "colab": {
      "name": "AlcivarJoffre-A3.ipynb",
      "provenance": []
    },
    "kernelspec": {
      "name": "python3",
      "display_name": "Python 3"
    },
    "language_info": {
      "name": "python"
    }
  },
  "cells": [
    {
      "cell_type": "markdown",
      "metadata": {
        "id": "FZHN309uVqfY"
      },
      "source": [
        "#Build Naive Bayes classifiers to predict positive/negative sentiment for a coffee maker.\n",
        "\n",
        "1. Preprocess data. Create a label column based on the product ratings. Negative sentiment is the outcome of interest. Ratings 1-3 -> negative sentiment. Ratings 4-5 -> positive sentiment. Assess label class distribution. (5 pts.)\n",
        "\n",
        "2. Build feature representations of the reviews. Transform all words to lower case, exclude English stopwords, develop TFIDF transformed feature representation. (5 pts.)\n",
        "\n",
        "3. Develop a Multinomial NB model to predict review sentiment. Evaluate average precision, recall, F1, ROC AUC, and PR AUC. (5 pts.)\n",
        "\n",
        "4. Develop a Complement NB model to predict review sentiment. Evaluate average precision, recall, F1, ROC AUC, and PR AUC. (5 pts.)\n",
        "\n",
        "<p>\n",
        "Submit LastnameFirstname-A3.ipynb\n"
      ]
    },
    {
      "cell_type": "markdown",
      "metadata": {
        "id": "kKSCFE6wK68n"
      },
      "source": [
        "1. Preprocess data. Create a label column based on the product ratings. Negative sentiment is the outcome of interest. Ratings 1-3 -> negative sentiment. Ratings 4-5 -> positive sentiment. Assess label class distribution."
      ]
    },
    {
      "cell_type": "code",
      "metadata": {
        "id": "7c3OmzPdLGtH"
      },
      "source": [
        "import pandas as pd\n",
        "\n",
        "ratings = pd.read_csv('coffee_maker.csv')"
      ],
      "execution_count": 33,
      "outputs": []
    },
    {
      "cell_type": "code",
      "metadata": {
        "colab": {
          "base_uri": "https://localhost:8080/",
          "height": 203
        },
        "id": "jNc-ImDwLbcV",
        "outputId": "646d85a5-fd1e-48e4-c5c2-f85b7ef97999"
      },
      "source": [
        "ratings.head()"
      ],
      "execution_count": 34,
      "outputs": [
        {
          "output_type": "execute_result",
          "data": {
            "text/html": [
              "<div>\n",
              "<style scoped>\n",
              "    .dataframe tbody tr th:only-of-type {\n",
              "        vertical-align: middle;\n",
              "    }\n",
              "\n",
              "    .dataframe tbody tr th {\n",
              "        vertical-align: top;\n",
              "    }\n",
              "\n",
              "    .dataframe thead th {\n",
              "        text-align: right;\n",
              "    }\n",
              "</style>\n",
              "<table border=\"1\" class=\"dataframe\">\n",
              "  <thead>\n",
              "    <tr style=\"text-align: right;\">\n",
              "      <th></th>\n",
              "      <th>review_date</th>\n",
              "      <th>handle</th>\n",
              "      <th>rating</th>\n",
              "      <th>helpfulness_rating</th>\n",
              "      <th>review</th>\n",
              "    </tr>\n",
              "  </thead>\n",
              "  <tbody>\n",
              "    <tr>\n",
              "      <th>0</th>\n",
              "      <td>April 14, 2018</td>\n",
              "      <td>The Dolphin</td>\n",
              "      <td>2.0</td>\n",
              "      <td>513</td>\n",
              "      <td>Delightful coffee maker if you’re only looking...</td>\n",
              "    </tr>\n",
              "    <tr>\n",
              "      <th>1</th>\n",
              "      <td>February 7, 2019</td>\n",
              "      <td>Karen Kaffenberger</td>\n",
              "      <td>1.0</td>\n",
              "      <td>122</td>\n",
              "      <td>UPDATE: Bought this 10-21-18 and I finally ret...</td>\n",
              "    </tr>\n",
              "    <tr>\n",
              "      <th>2</th>\n",
              "      <td>December 23, 2017</td>\n",
              "      <td>C1C3C11</td>\n",
              "      <td>4.0</td>\n",
              "      <td>185</td>\n",
              "      <td>The big reason I ordered this was because I wa...</td>\n",
              "    </tr>\n",
              "    <tr>\n",
              "      <th>3</th>\n",
              "      <td>November 26, 2016</td>\n",
              "      <td>Paul Roberts</td>\n",
              "      <td>5.0</td>\n",
              "      <td>224</td>\n",
              "      <td>I've owned several of their older brewstation ...</td>\n",
              "    </tr>\n",
              "    <tr>\n",
              "      <th>4</th>\n",
              "      <td>November 28, 2017</td>\n",
              "      <td>JennyD</td>\n",
              "      <td>3.0</td>\n",
              "      <td>116</td>\n",
              "      <td>I agonized over which coffee maker to purchase...</td>\n",
              "    </tr>\n",
              "  </tbody>\n",
              "</table>\n",
              "</div>"
            ],
            "text/plain": [
              "         review_date  ...                                             review\n",
              "0     April 14, 2018  ...  Delightful coffee maker if you’re only looking...\n",
              "1   February 7, 2019  ...  UPDATE: Bought this 10-21-18 and I finally ret...\n",
              "2  December 23, 2017  ...  The big reason I ordered this was because I wa...\n",
              "3  November 26, 2016  ...  I've owned several of their older brewstation ...\n",
              "4  November 28, 2017  ...  I agonized over which coffee maker to purchase...\n",
              "\n",
              "[5 rows x 5 columns]"
            ]
          },
          "metadata": {},
          "execution_count": 34
        }
      ]
    },
    {
      "cell_type": "code",
      "metadata": {
        "colab": {
          "base_uri": "https://localhost:8080/"
        },
        "id": "qbkgJmL6Lo1H",
        "outputId": "b32967be-9c50-444f-f3be-f9cb93f6efbe"
      },
      "source": [
        "ratings.shape"
      ],
      "execution_count": 35,
      "outputs": [
        {
          "output_type": "execute_result",
          "data": {
            "text/plain": [
              "(5000, 5)"
            ]
          },
          "metadata": {},
          "execution_count": 35
        }
      ]
    },
    {
      "cell_type": "code",
      "metadata": {
        "id": "2CH6MZcnLzJ9"
      },
      "source": [
        "ratings.drop(['review_date', 'handle', 'helpfulness_rating'], axis=1, inplace=True)"
      ],
      "execution_count": 36,
      "outputs": []
    },
    {
      "cell_type": "code",
      "metadata": {
        "id": "QqZMsIS-MTVX"
      },
      "source": [
        "ratings['sentiment'] = ratings['rating'].replace({1:1, 2:1, 3:1, 4:0, 5:0})"
      ],
      "execution_count": 37,
      "outputs": []
    },
    {
      "cell_type": "code",
      "metadata": {
        "colab": {
          "base_uri": "https://localhost:8080/",
          "height": 282
        },
        "id": "J5nLuIT-M3xg",
        "outputId": "8c9d125b-b758-4334-b0fe-28de38d01be9"
      },
      "source": [
        "ratings.sentiment.hist()\n",
        "\n",
        "print('Negative sentiment proportion: ', ratings.sentiment.mean())"
      ],
      "execution_count": 38,
      "outputs": [
        {
          "output_type": "stream",
          "name": "stdout",
          "text": [
            "Negative sentiment proportion:  0.4128\n"
          ]
        },
        {
          "output_type": "display_data",
          "data": {
            "image/png": "[encoded data removed]",
            "text/plain": [
              "<Figure size 432x288 with 1 Axes>"
            ]
          },
          "metadata": {
            "needs_background": "light"
          }
        }
      ]
    },
    {
      "cell_type": "markdown",
      "metadata": {
        "id": "bDDyjhiaQBCs"
      },
      "source": [
        "**Upon re-labeling and replacing sentiment scores of either 0 or 1, it was identified that 41.28% of the data reflected Negative rating scores. The Negative rating scores (or Class 1) is the outcome class of interest because the negative sentiments will reflect where the root of information regarding product improvement and development will come from.**"
      ]
    },
    {
      "cell_type": "markdown",
      "metadata": {
        "id": "FCkDtltsQGV-"
      },
      "source": [
        "2. Build feature representations of the reviews. Transform all words to lower case, exclude English stopwords, develop TFIDF transformed feature representation."
      ]
    },
    {
      "cell_type": "code",
      "metadata": {
        "id": "qKoWk98CQH7a"
      },
      "source": [
        "from sklearn.model_selection import train_test_split\n",
        "\n",
        "from sklearn.pipeline import Pipeline\n",
        "from sklearn.feature_extraction.text import CountVectorizer\n",
        "from sklearn.feature_extraction.text import TfidfTransformer\n",
        "from sklearn.naive_bayes import MultinomialNB\n",
        "\n",
        "X = ratings['review'].values.astype(str)\n",
        "y = ratings['sentiment']\n",
        "\n",
        "X_train, X_test, y_train, y_test = train_test_split(X, y, test_size=0.33, random_state=101)"
      ],
      "execution_count": 39,
      "outputs": []
    },
    {
      "cell_type": "code",
      "metadata": {
        "colab": {
          "base_uri": "https://localhost:8080/"
        },
        "id": "o0AqeSmpWWjS",
        "outputId": "daefe79e-9841-48ce-bcdd-bd113dbda603"
      },
      "source": [
        "nb_sent = Pipeline([\n",
        "                    ('vect', CountVectorizer(lowercase=True, stop_words={'english'})),\n",
        "                    ('tfidf', TfidfTransformer()),\n",
        "                    ('nb', MultinomialNB()),\n",
        "                    ])\n",
        "\n",
        "nb_sent.fit(X_train, y_train)"
      ],
      "execution_count": 40,
      "outputs": [
        {
          "output_type": "execute_result",
          "data": {
            "text/plain": [
              "Pipeline(memory=None,\n",
              "         steps=[('vect',\n",
              "                 CountVectorizer(analyzer='word', binary=False,\n",
              "                                 decode_error='strict',\n",
              "                                 dtype=<class 'numpy.int64'>, encoding='utf-8',\n",
              "                                 input='content', lowercase=True, max_df=1.0,\n",
              "                                 max_features=None, min_df=1,\n",
              "                                 ngram_range=(1, 1), preprocessor=None,\n",
              "                                 stop_words={'english'}, strip_accents=None,\n",
              "                                 token_pattern='(?u)\\\\b\\\\w\\\\w+\\\\b',\n",
              "                                 tokenizer=None, vocabulary=None)),\n",
              "                ('tfidf',\n",
              "                 TfidfTransformer(norm='l2', smooth_idf=True,\n",
              "                                  sublinear_tf=False, use_idf=True)),\n",
              "                ('nb',\n",
              "                 MultinomialNB(alpha=1.0, class_prior=None, fit_prior=True))],\n",
              "         verbose=False)"
            ]
          },
          "metadata": {},
          "execution_count": 40
        }
      ]
    },
    {
      "cell_type": "markdown",
      "metadata": {
        "id": "Uqsydt1mYyg-"
      },
      "source": [
        "3. Develop a Multinomial NB model to predict review sentiment. Evaluate average precision, recall, F1, ROC AUC, and PR AUC."
      ]
    },
    {
      "cell_type": "code",
      "metadata": {
        "id": "GJ1F1H4xY5T-",
        "colab": {
          "base_uri": "https://localhost:8080/"
        },
        "outputId": "270105b0-98d8-4c7f-b3f6-759ef1ecc8b9"
      },
      "source": [
        "from sklearn.metrics import classification_report, recall_score, precision_score, f1_score, roc_curve, auc, precision_recall_curve\n",
        "\n",
        "pred = nb_sent.predict(X_test)\n",
        "pred_prob = nb_sent.predict_proba(X_test)[:, 1]\n",
        "\n",
        "print(classification_report(y_test, pred))\n",
        "\n",
        "fpr, tpr, thresholds = roc_curve(y_test, pred_prob)\n",
        "precision, recall, thresholds_pr = precision_recall_curve(y_test, pred)\n",
        "\n",
        "print('ROC AUC: ', auc(fpr, tpr))\n",
        "print('Precision/Recall AUC: ', auc(precision, recall))"
      ],
      "execution_count": 41,
      "outputs": [
        {
          "output_type": "stream",
          "name": "stdout",
          "text": [
            "              precision    recall  f1-score   support\n",
            "\n",
            "         0.0       0.78      0.96      0.86       935\n",
            "         1.0       0.93      0.65      0.77       715\n",
            "\n",
            "    accuracy                           0.83      1650\n",
            "   macro avg       0.86      0.81      0.82      1650\n",
            "weighted avg       0.85      0.83      0.82      1650\n",
            "\n",
            "ROC AUC:  0.9312501402340976\n",
            "Precision/Recall AUC:  0.433995337995338\n"
          ]
        }
      ]
    },
    {
      "cell_type": "markdown",
      "metadata": {
        "id": "X2_OzRYrmJmx"
      },
      "source": [
        "**Based on the chosen thresholds, the Multinomial Naive Bayes model's results are as follows:**\n",
        "\n",
        "**This model is able to identify 65% of Negative ratings (recall of Class 1). Of the 65% of ratings that the model has flagged as Negative, 93% of them are actually Negative (precision of Class 1). The model produced a total of 715 cases that are considered Class 1.**\n",
        "\n",
        "**The F1 scores are the harmonic averages of Positive and Negative cases. Both produced verily high scores of 86% and 77%, respectively.**\n",
        "\n",
        "**The ROC AUC plots the distribution of True Positive cases vs. False Positive cases throughout different levels of thresholds. With a high ROC AUC score of 93%, the interpretation is that the model performs very well at distinguishing between positive and negative cases.**\n",
        "\n",
        "**With a precision/recall AUC of 0.43, this model does suggest to have predicted value, however, the default threshold should be addressed to attain an improved level of model performance.**"
      ]
    },
    {
      "cell_type": "markdown",
      "metadata": {
        "id": "DraCxJBYbOAN"
      },
      "source": [
        "4. Develop a Complement NB model to predict review sentiment. Evaluate average precision, recall, F1, ROC AUC, and PR AUC."
      ]
    },
    {
      "cell_type": "code",
      "metadata": {
        "id": "MWkKVZJXbb2G",
        "colab": {
          "base_uri": "https://localhost:8080/"
        },
        "outputId": "597dc335-fc93-4e87-86f0-bbe010baebb8"
      },
      "source": [
        "from sklearn.naive_bayes import ComplementNB\n",
        "\n",
        "nb_sent2 = Pipeline([\n",
        "                     ('vect', CountVectorizer(lowercase=True, stop_words={'english'})),\n",
        "                     ('tfidf', TfidfTransformer()),\n",
        "                     ('nb', ComplementNB()),\n",
        "                     ])\n",
        "\n",
        "nb_sent2.fit(X_train, y_train)\n",
        "\n",
        "pred2 = nb_sent2.predict(X_test)\n",
        "pred_prob2 = nb_sent2.predict_proba(X_test)[:, 1]\n",
        "\n",
        "print(classification_report(y_test, pred2))\n",
        "\n",
        "fpr2, tpr2, thresholds2 = roc_curve(y_test, pred_prob2)\n",
        "precision2, recall2, thresholds_pr2 = precision_recall_curve(y_test, pred2)\n",
        "\n",
        "print('AUC: ', auc(fpr2, tpr2))\n",
        "print('Precision/Recall AUC: ', auc(precision2, recall2))"
      ],
      "execution_count": 43,
      "outputs": [
        {
          "output_type": "stream",
          "name": "stdout",
          "text": [
            "              precision    recall  f1-score   support\n",
            "\n",
            "         0.0       0.84      0.92      0.88       935\n",
            "         1.0       0.88      0.77      0.82       715\n",
            "\n",
            "    accuracy                           0.85      1650\n",
            "   macro avg       0.86      0.84      0.85      1650\n",
            "weighted avg       0.86      0.85      0.85      1650\n",
            "\n",
            "AUC:  0.9312501402340976\n",
            "Precision/Recall AUC:  0.44037258919424527\n"
          ]
        }
      ]
    },
    {
      "cell_type": "markdown",
      "metadata": {
        "id": "SAxzirmKpdCZ"
      },
      "source": [
        "**The Complement Naive Bayes model results:**\n",
        "\n",
        "**Recall has improved for the class of interest. This model is able to identify 77% of Negative ratings, however, the Precision of those ratings actually being Negative decreased in probability to 88% precision.**\n",
        "\n",
        "**F1 scores have actually increased in both Class 0 and 1 suggesting the improved model for the default thresholds and data for the Precision and Recall harmonic averages.**\n",
        "\n",
        "**AUC has stayed the same as the Multinomial model AUC, which maintains the model's high level of distinguishing between positive and negative cases.**\n",
        "\n",
        "**Precision/Recall AUC has slightly improved to 44% because of the improved calibration of probabilities that the model produces. This is a better model for the slightly imbalanced distribution of the class of interest.**"
      ]
    }
  ]
}