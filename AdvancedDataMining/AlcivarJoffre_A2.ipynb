{
  "nbformat": 4,
  "nbformat_minor": 0,
  "metadata": {
    "colab": {
      "name": "AlcivarJoffre-A2.ipynb",
      "provenance": []
    },
    "kernelspec": {
      "name": "python3",
      "display_name": "Python 3"
    },
    "language_info": {
      "name": "python"
    }
  },
  "cells": [
    {
      "cell_type": "markdown",
      "metadata": {
        "id": "aspFioiG-KFP"
      },
      "source": [
        "1. Identify 12 articles on Wikipedia that can be thematically arranged in 4 groups. Develop a dataset containing the content from the respective Wikipedia pages. (5 pts.)\n",
        "<p>\n",
        "2. Perform elbow analysis on the TFIDF vectorized dataset. Assess whether the elbow analysis aligns with the expected number of groups. (5 pts.)\n",
        "<p>\n",
        "3. Develop a KMeans clustering solution using the expected number of groups as k. Does KMeans model assign the expected cluster memberships to the documents? (5 pts.)\n",
        "<p>\n",
        "4. Develop a hierachical clustering solution. Does the hiearchical clustering analysis align with the expected results? (5 pts.) \n",
        "<p>\n",
        "Please use text cells for comments on the solutions.\n",
        "<p>\n",
        "Please note that a 15% deduction will be applied for any errors or extraneous code in the submissions.\n",
        "<p>\n",
        "Submit LastnameFirstname-A2.ipynb"
      ]
    },
    {
      "cell_type": "markdown",
      "metadata": {
        "id": "JwVy-rtmHlHC"
      },
      "source": [
        "1. Identify 12 articles on Wikipedia that can be thematically arranged in 4 groups. Develop a dataset containing the context from the respective Wikipedia pages."
      ]
    },
    {
      "cell_type": "code",
      "metadata": {
        "colab": {
          "base_uri": "https://localhost:8080/"
        },
        "id": "7PwpgUqiHxHI",
        "outputId": "27735566-b9bd-4815-9ff1-92e970266b1a"
      },
      "source": [
        "!pip install wikipedia"
      ],
      "execution_count": null,
      "outputs": [
        {
          "output_type": "stream",
          "name": "stdout",
          "text": [
            "Collecting wikipedia\n",
            "  Downloading wikipedia-1.4.0.tar.gz (27 kB)\n",
            "Requirement already satisfied: beautifulsoup4 in /usr/local/lib/python3.7/dist-packages (from wikipedia) (4.6.3)\n",
            "Requirement already satisfied: requests<3.0.0,>=2.0.0 in /usr/local/lib/python3.7/dist-packages (from wikipedia) (2.23.0)\n",
            "Requirement already satisfied: certifi>=2017.4.17 in /usr/local/lib/python3.7/dist-packages (from requests<3.0.0,>=2.0.0->wikipedia) (2021.5.30)\n",
            "Requirement already satisfied: chardet<4,>=3.0.2 in /usr/local/lib/python3.7/dist-packages (from requests<3.0.0,>=2.0.0->wikipedia) (3.0.4)\n",
            "Requirement already satisfied: idna<3,>=2.5 in /usr/local/lib/python3.7/dist-packages (from requests<3.0.0,>=2.0.0->wikipedia) (2.10)\n",
            "Requirement already satisfied: urllib3!=1.25.0,!=1.25.1,<1.26,>=1.21.1 in /usr/local/lib/python3.7/dist-packages (from requests<3.0.0,>=2.0.0->wikipedia) (1.24.3)\n",
            "Building wheels for collected packages: wikipedia\n",
            "  Building wheel for wikipedia (setup.py) ... \u001b[?25l\u001b[?25hdone\n",
            "  Created wheel for wikipedia: filename=wikipedia-1.4.0-py3-none-any.whl size=11696 sha256=3c920fab0f7804842be03a490b19ed2683aef8535a6acd81b6b4e0253dbfcbfe\n",
            "  Stored in directory: /root/.cache/pip/wheels/15/93/6d/5b2c68b8a64c7a7a04947b4ed6d89fb557dcc6bc27d1d7f3ba\n",
            "Successfully built wikipedia\n",
            "Installing collected packages: wikipedia\n",
            "Successfully installed wikipedia-1.4.0\n"
          ]
        }
      ]
    },
    {
      "cell_type": "code",
      "metadata": {
        "colab": {
          "base_uri": "https://localhost:8080/"
        },
        "id": "pW-UiWkuI1t9",
        "outputId": "16970f59-a180-4fc4-b515-bb65660e7c6a"
      },
      "source": [
        "import wikipedia\n",
        "\n",
        "articles=['Real estate agent', 'mortgage', 'FSBO',\n",
        "          'exercise', 'ketogenic diet', 'gym',\n",
        "          'apple inc', 'microsoft', 'sony',\n",
        "          'rock music', 'hip hop', 'blues']\n",
        "\n",
        "wiki_lst=[]\n",
        "\n",
        "for topic in articles:\n",
        "  print(\"retrieving: \", topic)\n",
        "  wiki_lst.append(wikipedia.page(topic).content)"
      ],
      "execution_count": null,
      "outputs": [
        {
          "output_type": "stream",
          "name": "stdout",
          "text": [
            "retrieving:  Real estate agent\n",
            "retrieving:  mortgage\n",
            "retrieving:  FSBO\n",
            "retrieving:  exercise\n",
            "retrieving:  ketogenic diet\n",
            "retrieving:  gym\n",
            "retrieving:  apple inc\n",
            "retrieving:  microsoft\n",
            "retrieving:  sony\n",
            "retrieving:  rock music\n",
            "retrieving:  hip hop\n",
            "retrieving:  blues\n"
          ]
        }
      ]
    },
    {
      "cell_type": "code",
      "metadata": {
        "id": "LEYn1QaGLV1N"
      },
      "source": [
        "from sklearn.feature_extraction.text import TfidfVectorizer\n",
        "\n",
        "vectorizer = TfidfVectorizer(stop_words={'english'})\n",
        "X = vectorizer.fit_transform(wiki_lst)"
      ],
      "execution_count": null,
      "outputs": []
    },
    {
      "cell_type": "markdown",
      "metadata": {
        "id": "SGsWT_KwMH1t"
      },
      "source": [
        "2. Perform elbow analysis on the TFDIF vectorized dataset. Assess whether the elbow analysis aligns with the expected number of groups."
      ]
    },
    {
      "cell_type": "code",
      "metadata": {
        "colab": {
          "base_uri": "https://localhost:8080/",
          "height": 295
        },
        "id": "8rRZkmB3MYZ6",
        "outputId": "50b56a52-b496-4fb8-92c8-233d2dfb2549"
      },
      "source": [
        "import matplotlib.pyplot as plt\n",
        "from sklearn.cluster import KMeans\n",
        "\n",
        "Sum_of_squared_distances = []\n",
        "K = range(2,13)\n",
        "for k in K:\n",
        "  km = KMeans(n_clusters=k, max_iter=200, n_init=10)\n",
        "  km = km.fit(X)\n",
        "  Sum_of_squared_distances.append(km.inertia_)\n",
        "plt.plot(K, Sum_of_squared_distances, 'bx-')\n",
        "plt.xlabel('k')\n",
        "plt.ylabel('Sum_of_squared_distances')\n",
        "plt.title('Elbow Method For Optimal k')\n",
        "plt.show()"
      ],
      "execution_count": null,
      "outputs": [
        {
          "output_type": "display_data",
          "data": {
            "image/png": "[encoded data removed]",
            "text/plain": [
              "<Figure size 432x288 with 1 Axes>"
            ]
          },
          "metadata": {
            "needs_background": "light"
          }
        }
      ]
    },
    {
      "cell_type": "markdown",
      "metadata": {
        "id": "l6Dl3YX_WfhL"
      },
      "source": [
        "**Based on the elbow method analysis above, there is no clear alignment with expected number of groups because of the lack of \"elbow\". The results fail to show a clear dramatic change in reduction of sum of square distance for every additional cluster. This clear dramatic change would have shown the optimal cluster group assignment for the model. The expectation was to have this clear indication at k=4 but the model does not reflect this assumption.**"
      ]
    },
    {
      "cell_type": "markdown",
      "metadata": {
        "id": "SPVjiGrZP2Px"
      },
      "source": [
        "3. Develop a KMeans clustering solution using the expected number of groups as k. Does KMeans model assign the expected number of cluster memberships to the documents?"
      ]
    },
    {
      "cell_type": "code",
      "metadata": {
        "colab": {
          "base_uri": "https://localhost:8080/"
        },
        "id": "N5LgQ79_QNNx",
        "outputId": "060fe138-d153-4398-ac99-b7b4ccf3c7a2"
      },
      "source": [
        "import pandas as pd\n",
        "\n",
        "true_k = 4\n",
        "model = KMeans(n_clusters=true_k, init='k-means++', max_iter=200, n_init=10)\n",
        "model.fit(X)\n",
        "\n",
        "labels=model.labels_\n",
        "wiki_cl=pd.DataFrame(list(zip(articles,labels)), columns=['topic', 'cluster'])\n",
        "print(wiki_cl.sort_values(by=['cluster']))"
      ],
      "execution_count": null,
      "outputs": [
        {
          "output_type": "stream",
          "name": "stdout",
          "text": [
            "                topic  cluster\n",
            "8                sony        0\n",
            "0   Real estate agent        1\n",
            "1            mortgage        1\n",
            "2                FSBO        1\n",
            "4      ketogenic diet        1\n",
            "9          rock music        1\n",
            "10            hip hop        1\n",
            "11              blues        1\n",
            "3            exercise        2\n",
            "5                 gym        2\n",
            "6           apple inc        3\n",
            "7           microsoft        3\n"
          ]
        }
      ]
    },
    {
      "cell_type": "markdown",
      "metadata": {
        "id": "-TBuMAe6XODH"
      },
      "source": [
        "**Based on lingustic representation of the articles, the KMeans model does not assign the anticipated cluster memberships. The initial expectation was to have 3 specific topics per cluster group which do not reflect in the results- more than 3 topics are in cluster group #2, only 2 topics in groups 3 & 4 and one topic is in a group of its own.**"
      ]
    },
    {
      "cell_type": "markdown",
      "metadata": {
        "id": "8K4hCT0KS3L6"
      },
      "source": [
        "4. Develop a hierarchical clustering solution. Does the hierarchical clustering analysis align with the expected results?"
      ]
    },
    {
      "cell_type": "code",
      "metadata": {
        "colab": {
          "base_uri": "https://localhost:8080/",
          "height": 441
        },
        "id": "b42N1SKKTNun",
        "outputId": "3c5781e6-b057-4117-b67b-843b6988f60b"
      },
      "source": [
        "from scipy.cluster.hierarchy import ward, dendrogram\n",
        "from sklearn.metrics.pairwise import cosine_similarity\n",
        "\n",
        "dist = 1 - cosine_similarity(X)\n",
        "\n",
        "linkage_matrix = ward(dist)\n",
        "\n",
        "fig, ax = plt.subplots(figsize=(10, 6))\n",
        "ax = dendrogram(linkage_matrix, orientation='right', labels=articles);\n",
        "\n",
        "plt.tick_params(\\\n",
        "    axis= 'x',\n",
        "    which= 'both',\n",
        "    bottom= 'off',\n",
        "    top= 'off',\n",
        "    labelbottom= 'off')\n",
        "\n",
        "plt.tight_layout()"
      ],
      "execution_count": null,
      "outputs": [
        {
          "output_type": "display_data",
          "data": {
            "image/png": "[encoded data removed]",
            "text/plain": [
              "<Figure size 720x432 with 1 Axes>"
            ]
          },
          "metadata": {
            "needs_background": "light"
          }
        }
      ]
    },
    {
      "cell_type": "markdown",
      "metadata": {
        "id": "OBbLVHZ_aanJ"
      },
      "source": [
        "**The hierarchical clustering analysis did not produce the expected results because of the incorrect associations between some topics. As an example, results show that the ketogenic diet is somehow much more closely related, from a lingustic standpoint, to the cluster group of hip hop and blues & rock music compared to the anticipated association of gym and/or exercise.**"
      ]
    }
  ]
}