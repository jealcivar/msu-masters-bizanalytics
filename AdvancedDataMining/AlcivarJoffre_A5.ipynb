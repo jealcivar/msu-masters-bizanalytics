{
  "nbformat": 4,
  "nbformat_minor": 0,
  "metadata": {
    "colab": {
      "name": "AlcivarJoffre-A5.ipynb",
      "provenance": []
    },
    "kernelspec": {
      "name": "python3",
      "display_name": "Python 3"
    },
    "language_info": {
      "name": "python"
    }
  },
  "cells": [
    {
      "cell_type": "markdown",
      "metadata": {
        "id": "BMkOr03sOz3F"
      },
      "source": [
        "PolitiFact.com publishes fact-checks on politician's statements.  I collected a dataset of Barack Obama's quotes for this assignment.\n",
        "\n",
        "1. Import and pre-process the dataset as appropriate. (Reduce the task to a binary classification problem, drop any non-conforming records.) (5 pts.)\n",
        "\n",
        "2. Develop an LSTM-based model with an embedding layer based on the training subset of data (use 70% of data for model training). Assess model performance (Recall, Precision, Accuracy, ROC AUC, PR AUC). (10 pts.)\n",
        "\n",
        "3. Does the model have predictive value? Provide the rationale for your answer.(5 pts.)\n",
        "\n",
        "4. Develop an LSTM-based model using GloVe pre-trained embedding (from SpaCy). Assess model performance (Recall, Precision, Accuracy, ROC AUC, PR AUC). (10 pts.)\n",
        "\n",
        "5. Does the model have predictive value? Provide the rationale for your answer.(5 pts.)\n",
        "\n",
        "Submit LastnameFirstname-A5.ipynb"
      ]
    },
    {
      "cell_type": "code",
      "metadata": {
        "id": "a6PL_x-YOzRz"
      },
      "source": [
        "import pandas as pd\n",
        "\n",
        "from keras.preprocessing.text import Tokenizer\n",
        "from keras.preprocessing.sequence import pad_sequences\n",
        "from keras.models import Sequential\n",
        "from keras.layers import Dense, Flatten, LSTM, Conv1D, GlobalMaxPooling1D, Dropout, Activation\n",
        "from keras.layers import Input, TextVectorization\n",
        "from keras.callbacks import *\n",
        "from keras.metrics import *\n",
        "from keras.backend import clear_session\n",
        "from keras.layers.embeddings import Embedding\n",
        "from keras.initializers import Constant\n",
        "\n",
        "import spacy"
      ],
      "execution_count": 30,
      "outputs": []
    },
    {
      "cell_type": "markdown",
      "metadata": {
        "id": "a9I43oh6Hg2d"
      },
      "source": [
        "1. Import and pre-process the dataset as appropriate. (Reduce the task to a binary classification problem, drop any non-conforming records.)"
      ]
    },
    {
      "cell_type": "code",
      "metadata": {
        "colab": {
          "base_uri": "https://localhost:8080/",
          "height": 206
        },
        "id": "u4R3XDPpBia5",
        "outputId": "f6dab1cc-cc93-4c7f-94d0-045d03d68ab1"
      },
      "source": [
        "pfacts = pd.read_csv('politifact-obama.csv')\n",
        "\n",
        "pfacts.head()"
      ],
      "execution_count": 31,
      "outputs": [
        {
          "output_type": "execute_result",
          "data": {
            "text/html": [
              "<div>\n",
              "<style scoped>\n",
              "    .dataframe tbody tr th:only-of-type {\n",
              "        vertical-align: middle;\n",
              "    }\n",
              "\n",
              "    .dataframe tbody tr th {\n",
              "        vertical-align: top;\n",
              "    }\n",
              "\n",
              "    .dataframe thead th {\n",
              "        text-align: right;\n",
              "    }\n",
              "</style>\n",
              "<table border=\"1\" class=\"dataframe\">\n",
              "  <thead>\n",
              "    <tr style=\"text-align: right;\">\n",
              "      <th></th>\n",
              "      <th>Score</th>\n",
              "      <th>Date</th>\n",
              "      <th>Quote</th>\n",
              "    </tr>\n",
              "  </thead>\n",
              "  <tbody>\n",
              "    <tr>\n",
              "      <th>0</th>\n",
              "      <td>False</td>\n",
              "      <td>July 22, 2021</td>\n",
              "      <td>\"The cost of an automobile, it's kind of back ...</td>\n",
              "    </tr>\n",
              "    <tr>\n",
              "      <th>1</th>\n",
              "      <td>False</td>\n",
              "      <td>June 23, 2021</td>\n",
              "      <td>\"The Second Amendment, from the day it was pas...</td>\n",
              "    </tr>\n",
              "    <tr>\n",
              "      <th>2</th>\n",
              "      <td>False</td>\n",
              "      <td>May 3, 2021</td>\n",
              "      <td>For vaccine rates among Americans 65 and older...</td>\n",
              "    </tr>\n",
              "    <tr>\n",
              "      <th>3</th>\n",
              "      <td>False</td>\n",
              "      <td>March 25, 2021</td>\n",
              "      <td>“We’re sending back the vast majority of the f...</td>\n",
              "    </tr>\n",
              "    <tr>\n",
              "      <th>4</th>\n",
              "      <td>False</td>\n",
              "      <td>February 16, 2021</td>\n",
              "      <td>\"If we kept (the minimum wage) indexed to infl...</td>\n",
              "    </tr>\n",
              "  </tbody>\n",
              "</table>\n",
              "</div>"
            ],
            "text/plain": [
              "   Score               Date                                              Quote\n",
              "0  False      July 22, 2021  \"The cost of an automobile, it's kind of back ...\n",
              "1  False      June 23, 2021  \"The Second Amendment, from the day it was pas...\n",
              "2  False        May 3, 2021  For vaccine rates among Americans 65 and older...\n",
              "3  False     March 25, 2021  “We’re sending back the vast majority of the f...\n",
              "4  False  February 16, 2021  \"If we kept (the minimum wage) indexed to infl..."
            ]
          },
          "metadata": {},
          "execution_count": 31
        }
      ]
    },
    {
      "cell_type": "code",
      "metadata": {
        "colab": {
          "base_uri": "https://localhost:8080/"
        },
        "id": "q2G2kWRXCLZC",
        "outputId": "0c7669a3-5edd-44ea-b4e9-c0a923db9b69"
      },
      "source": [
        "pfacts.Score.value_counts()"
      ],
      "execution_count": 32,
      "outputs": [
        {
          "output_type": "execute_result",
          "data": {
            "text/plain": [
              "Mostly True      211\n",
              "Half True        211\n",
              "True             148\n",
              "False            107\n",
              "Mostly False     101\n",
              "Pants on Fire     15\n",
              "Score              1\n",
              "Name: Score, dtype: int64"
            ]
          },
          "metadata": {},
          "execution_count": 32
        }
      ]
    },
    {
      "cell_type": "code",
      "metadata": {
        "id": "WFtt-U7MNAcE",
        "colab": {
          "base_uri": "https://localhost:8080/"
        },
        "outputId": "9fc04f57-e86e-4a60-8e13-f654a6fcae18"
      },
      "source": [
        "pfacts.shape"
      ],
      "execution_count": 33,
      "outputs": [
        {
          "output_type": "execute_result",
          "data": {
            "text/plain": [
              "(794, 3)"
            ]
          },
          "metadata": {},
          "execution_count": 33
        }
      ]
    },
    {
      "cell_type": "code",
      "metadata": {
        "colab": {
          "base_uri": "https://localhost:8080/",
          "height": 474
        },
        "id": "HVbFneI1EzO-",
        "outputId": "2b472739-57a1-4cf0-f9f3-37d3d5dfc257"
      },
      "source": [
        "pfacts = pfacts.loc[pfacts['Score'] != 'Score']\n",
        "pfacts.drop(['Date'], axis=1, inplace=True)\n",
        "pfacts['sentiment'] = pfacts['Score'].replace({'Pants on Fire':1, 'Mostly False':1, 'False':1,\n",
        "                                               'True':0, 'Mostly True':0, 'Half True':0})\n",
        "\n",
        "pfacts.sentiment.hist()\n",
        "\n",
        "print('False score proportion: ', pfacts.sentiment.mean())"
      ],
      "execution_count": 34,
      "outputs": [
        {
          "output_type": "stream",
          "name": "stdout",
          "text": [
            "False score proportion:  0.2812105926860025\n"
          ]
        },
        {
          "output_type": "stream",
          "name": "stderr",
          "text": [
            "/usr/local/lib/python3.7/dist-packages/pandas/core/frame.py:4174: SettingWithCopyWarning: \n",
            "A value is trying to be set on a copy of a slice from a DataFrame\n",
            "\n",
            "See the caveats in the documentation: https://pandas.pydata.org/pandas-docs/stable/user_guide/indexing.html#returning-a-view-versus-a-copy\n",
            "  errors=errors,\n",
            "/usr/local/lib/python3.7/dist-packages/ipykernel_launcher.py:4: SettingWithCopyWarning: \n",
            "A value is trying to be set on a copy of a slice from a DataFrame.\n",
            "Try using .loc[row_indexer,col_indexer] = value instead\n",
            "\n",
            "See the caveats in the documentation: https://pandas.pydata.org/pandas-docs/stable/user_guide/indexing.html#returning-a-view-versus-a-copy\n",
            "  after removing the cwd from sys.path.\n"
          ]
        },
        {
          "output_type": "display_data",
          "data": {
            "image/png": "[encoded data removed]",
            "text/plain": [
              "<Figure size 432x288 with 1 Axes>"
            ]
          },
          "metadata": {
            "needs_background": "light"
          }
        }
      ]
    },
    {
      "cell_type": "code",
      "metadata": {
        "id": "ksOwCCvXIJcx",
        "colab": {
          "base_uri": "https://localhost:8080/",
          "height": 206
        },
        "outputId": "f3a903dd-3720-4482-9262-1f8f904ddcbb"
      },
      "source": [
        "pfacts.head()"
      ],
      "execution_count": 35,
      "outputs": [
        {
          "output_type": "execute_result",
          "data": {
            "text/html": [
              "<div>\n",
              "<style scoped>\n",
              "    .dataframe tbody tr th:only-of-type {\n",
              "        vertical-align: middle;\n",
              "    }\n",
              "\n",
              "    .dataframe tbody tr th {\n",
              "        vertical-align: top;\n",
              "    }\n",
              "\n",
              "    .dataframe thead th {\n",
              "        text-align: right;\n",
              "    }\n",
              "</style>\n",
              "<table border=\"1\" class=\"dataframe\">\n",
              "  <thead>\n",
              "    <tr style=\"text-align: right;\">\n",
              "      <th></th>\n",
              "      <th>Score</th>\n",
              "      <th>Quote</th>\n",
              "      <th>sentiment</th>\n",
              "    </tr>\n",
              "  </thead>\n",
              "  <tbody>\n",
              "    <tr>\n",
              "      <th>0</th>\n",
              "      <td>False</td>\n",
              "      <td>\"The cost of an automobile, it's kind of back ...</td>\n",
              "      <td>1</td>\n",
              "    </tr>\n",
              "    <tr>\n",
              "      <th>1</th>\n",
              "      <td>False</td>\n",
              "      <td>\"The Second Amendment, from the day it was pas...</td>\n",
              "      <td>1</td>\n",
              "    </tr>\n",
              "    <tr>\n",
              "      <th>2</th>\n",
              "      <td>False</td>\n",
              "      <td>For vaccine rates among Americans 65 and older...</td>\n",
              "      <td>1</td>\n",
              "    </tr>\n",
              "    <tr>\n",
              "      <th>3</th>\n",
              "      <td>False</td>\n",
              "      <td>“We’re sending back the vast majority of the f...</td>\n",
              "      <td>1</td>\n",
              "    </tr>\n",
              "    <tr>\n",
              "      <th>4</th>\n",
              "      <td>False</td>\n",
              "      <td>\"If we kept (the minimum wage) indexed to infl...</td>\n",
              "      <td>1</td>\n",
              "    </tr>\n",
              "  </tbody>\n",
              "</table>\n",
              "</div>"
            ],
            "text/plain": [
              "   Score                                              Quote  sentiment\n",
              "0  False  \"The cost of an automobile, it's kind of back ...          1\n",
              "1  False  \"The Second Amendment, from the day it was pas...          1\n",
              "2  False  For vaccine rates among Americans 65 and older...          1\n",
              "3  False  “We’re sending back the vast majority of the f...          1\n",
              "4  False  \"If we kept (the minimum wage) indexed to infl...          1"
            ]
          },
          "metadata": {},
          "execution_count": 35
        }
      ]
    },
    {
      "cell_type": "code",
      "metadata": {
        "id": "outrLv5jNJkq",
        "colab": {
          "base_uri": "https://localhost:8080/"
        },
        "outputId": "9801bbf2-9b21-4350-8e8e-b4cccd56c810"
      },
      "source": [
        "pfacts.shape"
      ],
      "execution_count": 36,
      "outputs": [
        {
          "output_type": "execute_result",
          "data": {
            "text/plain": [
              "(793, 3)"
            ]
          },
          "metadata": {},
          "execution_count": 36
        }
      ]
    },
    {
      "cell_type": "code",
      "metadata": {
        "id": "RgvVj1vOTCGR"
      },
      "source": [
        "from sklearn.model_selection import train_test_split\n",
        "\n",
        "X = pfacts['Quote'].values.astype(str)\n",
        "y = pfacts['sentiment']\n",
        "\n",
        "X_train, X_test, y_train, y_test = train_test_split(X, y, test_size=0.3, random_state=100)"
      ],
      "execution_count": 37,
      "outputs": []
    },
    {
      "cell_type": "markdown",
      "metadata": {
        "id": "vu-hkInSHmg6"
      },
      "source": [
        "2. Develop an LSTM-based model with an embedding layer based on the training subset of data (use 70% of data for model training). Assess model performance (Recall, Precision, Accuracy, ROC AUC, PR AUC)."
      ]
    },
    {
      "cell_type": "code",
      "metadata": {
        "id": "_WvRmaj6Ga5f"
      },
      "source": [
        "tokenizer = Tokenizer()\n",
        "\n",
        "tokenizer.fit_on_texts(list(X_train))\n",
        "\n",
        "X_train_seq = tokenizer.texts_to_sequences(X_train)\n",
        "X_test_seq = tokenizer.texts_to_sequences(X_test)\n",
        "\n",
        "X_train_seq = pad_sequences(X_train_seq, maxlen=100)\n",
        "X_test_seq = pad_sequences(X_test_seq, maxlen=100)"
      ],
      "execution_count": 38,
      "outputs": []
    },
    {
      "cell_type": "code",
      "metadata": {
        "id": "ye32uhnqWy5m",
        "colab": {
          "base_uri": "https://localhost:8080/"
        },
        "outputId": "c8ec541c-4209-432d-a584-8444dbc289b5"
      },
      "source": [
        "size_of_vocabulary=len(tokenizer.word_index) + 1\n",
        "print(size_of_vocabulary)"
      ],
      "execution_count": 39,
      "outputs": [
        {
          "output_type": "stream",
          "name": "stdout",
          "text": [
            "2301\n"
          ]
        }
      ]
    },
    {
      "cell_type": "code",
      "metadata": {
        "id": "iz187dB1Vn2l"
      },
      "source": [
        "METRICS = [\n",
        "           TruePositives(name='tp'),\n",
        "           FalsePositives(name='fp'),\n",
        "           TrueNegatives(name='tn'),\n",
        "           FalseNegatives(name='fn'),\n",
        "           BinaryAccuracy(name='accuracy'),\n",
        "           Precision(name='precision'),\n",
        "           Recall(name='recall'),\n",
        "           AUC(name='auc'),\n",
        "           AUC(name='prc', curve='PR'),\n",
        "]"
      ],
      "execution_count": 40,
      "outputs": []
    },
    {
      "cell_type": "code",
      "metadata": {
        "id": "bZ94Y5IwWfFT",
        "colab": {
          "base_uri": "https://localhost:8080/"
        },
        "outputId": "ff1721f0-edfa-457d-f996-eb0f66b3e159"
      },
      "source": [
        "clear_session()\n",
        "\n",
        "model=Sequential()\n",
        "\n",
        "model.add(Embedding(size_of_vocabulary,300,input_length=100,trainable=True))\n",
        "\n",
        "model.add(LSTM(128,return_sequences=True,dropout=0.2))\n",
        "\n",
        "model.add(GlobalMaxPooling1D())\n",
        "\n",
        "model.add(Dense(64, activation='relu'))\n",
        "model.add(Dense(1, activation='sigmoid'))\n",
        "\n",
        "model.compile(optimizer='adam', loss='binary_crossentropy', metrics=METRICS)\n",
        "\n",
        "es = EarlyStopping(monitor='val_loss', mode='min', verbose=1, patience=3)\n",
        "mc = ModelCheckpoint('best_model', monitor='val_loss', mode='min',\n",
        "                     save_best_only=True, save_weights_only=False, verbose=1)\n",
        "\n",
        "print(model.summary())"
      ],
      "execution_count": 41,
      "outputs": [
        {
          "output_type": "stream",
          "name": "stdout",
          "text": [
            "Model: \"sequential\"\n",
            "_________________________________________________________________\n",
            " Layer (type)                Output Shape              Param #   \n",
            "=================================================================\n",
            " embedding (Embedding)       (None, 100, 300)          690300    \n",
            "                                                                 \n",
            " lstm (LSTM)                 (None, 100, 128)          219648    \n",
            "                                                                 \n",
            " global_max_pooling1d (Globa  (None, 128)              0         \n",
            " lMaxPooling1D)                                                  \n",
            "                                                                 \n",
            " dense (Dense)               (None, 64)                8256      \n",
            "                                                                 \n",
            " dense_1 (Dense)             (None, 1)                 65        \n",
            "                                                                 \n",
            "=================================================================\n",
            "Total params: 918,269\n",
            "Trainable params: 918,269\n",
            "Non-trainable params: 0\n",
            "_________________________________________________________________\n",
            "None\n"
          ]
        }
      ]
    },
    {
      "cell_type": "code",
      "metadata": {
        "id": "M2gF7N0_aJxl",
        "colab": {
          "base_uri": "https://localhost:8080/"
        },
        "outputId": "b511fba3-fdf0-4ae9-ff49-020a657558fb"
      },
      "source": [
        "history = model.fit(np.array(X_train_seq),np.array(y_train), batch_size=128, epochs=10,\n",
        "                    validation_data=(np.array(X_test_seq), np.array(y_test)), verbose=1,\n",
        "                    callbacks=[es,mc])"
      ],
      "execution_count": 42,
      "outputs": [
        {
          "output_type": "stream",
          "name": "stdout",
          "text": [
            "Epoch 1/10\n",
            "5/5 [==============================] - ETA: 0s - loss: 0.6652 - tp: 37.0000 - fp: 91.0000 - tn: 316.0000 - fn: 111.0000 - accuracy: 0.6360 - precision: 0.2891 - recall: 0.2500 - auc: 0.5299 - prc: 0.2872\n",
            "Epoch 00001: val_loss improved from inf to 0.62898, saving model to best_model\n"
          ]
        },
        {
          "output_type": "stream",
          "name": "stderr",
          "text": [
            "WARNING:absl:Found untraced functions such as lstm_cell_layer_call_fn, lstm_cell_layer_call_and_return_conditional_losses, lstm_cell_layer_call_fn, lstm_cell_layer_call_and_return_conditional_losses, lstm_cell_layer_call_and_return_conditional_losses while saving (showing 5 of 5). These functions will not be directly callable after loading.\n"
          ]
        },
        {
          "output_type": "stream",
          "name": "stdout",
          "text": [
            "INFO:tensorflow:Assets written to: best_model/assets\n"
          ]
        },
        {
          "output_type": "stream",
          "name": "stderr",
          "text": [
            "INFO:tensorflow:Assets written to: best_model/assets\n",
            "WARNING:absl:<keras.layers.recurrent.LSTMCell object at 0x7f00f5331550> has the same name 'LSTMCell' as a built-in Keras object. Consider renaming <class 'keras.layers.recurrent.LSTMCell'> to avoid naming conflicts when loading with `tf.keras.models.load_model`. If renaming is not possible, pass the object in the `custom_objects` parameter of the load function.\n"
          ]
        },
        {
          "output_type": "stream",
          "name": "stdout",
          "text": [
            "\b\b\b\b\b\b\b\b\b\b\b\b\b\b\b\b\b\b\b\b\b\b\b\b\b\b\b\b\b\b\b\b\b\b\b\b\b\b\b\b\b\b\b\b\b\b\b\b\b\b\b\b\b\b\b\b\b\b\b\b\b\b\b\b\b\b\b\b\b\b\b\b\b\b\b\b\b\b\b\b\b\b\b\b\b\b\b\b\b\b\b\b\b\b\b\b\b\b\b\b\b\b\b\b\b\b\b\b\b\b\b\b\b\b\b\b\b\b\b\b\b\b\b\b\b\b\b\b\b\b\b\b\b\b\b\b\b\b\b\b\b\b\b\b\b\b\b\b\b\b\b\b\b\b\b\b\b\b\b\b\b\b\b\b\b\b\b\b\b\b\b\b\b\b\b\b\b\b\b\b\b\b\b\b\b\b\b\b\b\b\b\b\b\b\b\b\b\b\b\b\b\b\b\r5/5 [==============================] - 13s 2s/step - loss: 0.6652 - tp: 37.0000 - fp: 91.0000 - tn: 316.0000 - fn: 111.0000 - accuracy: 0.6360 - precision: 0.2891 - recall: 0.2500 - auc: 0.5299 - prc: 0.2872 - val_loss: 0.6290 - val_tp: 0.0000e+00 - val_fp: 0.0000e+00 - val_tn: 163.0000 - val_fn: 75.0000 - val_accuracy: 0.6849 - val_precision: 0.0000e+00 - val_recall: 0.0000e+00 - val_auc: 0.4898 - val_prc: 0.3048\n",
            "Epoch 2/10\n",
            "5/5 [==============================] - ETA: 0s - loss: 0.5930 - tp: 0.0000e+00 - fp: 0.0000e+00 - tn: 407.0000 - fn: 148.0000 - accuracy: 0.7333 - precision: 0.0000e+00 - recall: 0.0000e+00 - auc: 0.5127 - prc: 0.2771\n",
            "Epoch 00002: val_loss did not improve from 0.62898\n",
            "5/5 [==============================] - 3s 569ms/step - loss: 0.5930 - tp: 0.0000e+00 - fp: 0.0000e+00 - tn: 407.0000 - fn: 148.0000 - accuracy: 0.7333 - precision: 0.0000e+00 - recall: 0.0000e+00 - auc: 0.5127 - prc: 0.2771 - val_loss: 0.6506 - val_tp: 0.0000e+00 - val_fp: 0.0000e+00 - val_tn: 163.0000 - val_fn: 75.0000 - val_accuracy: 0.6849 - val_precision: 0.0000e+00 - val_recall: 0.0000e+00 - val_auc: 0.5240 - val_prc: 0.3416\n",
            "Epoch 3/10\n",
            "5/5 [==============================] - ETA: 0s - loss: 0.5845 - tp: 0.0000e+00 - fp: 0.0000e+00 - tn: 407.0000 - fn: 148.0000 - accuracy: 0.7333 - precision: 0.0000e+00 - recall: 0.0000e+00 - auc: 0.5070 - prc: 0.2774\n",
            "Epoch 00003: val_loss improved from 0.62898 to 0.62330, saving model to best_model\n"
          ]
        },
        {
          "output_type": "stream",
          "name": "stderr",
          "text": [
            "WARNING:absl:Found untraced functions such as lstm_cell_layer_call_fn, lstm_cell_layer_call_and_return_conditional_losses, lstm_cell_layer_call_fn, lstm_cell_layer_call_and_return_conditional_losses, lstm_cell_layer_call_and_return_conditional_losses while saving (showing 5 of 5). These functions will not be directly callable after loading.\n"
          ]
        },
        {
          "output_type": "stream",
          "name": "stdout",
          "text": [
            "INFO:tensorflow:Assets written to: best_model/assets\n"
          ]
        },
        {
          "output_type": "stream",
          "name": "stderr",
          "text": [
            "INFO:tensorflow:Assets written to: best_model/assets\n",
            "WARNING:absl:<keras.layers.recurrent.LSTMCell object at 0x7f00f5331550> has the same name 'LSTMCell' as a built-in Keras object. Consider renaming <class 'keras.layers.recurrent.LSTMCell'> to avoid naming conflicts when loading with `tf.keras.models.load_model`. If renaming is not possible, pass the object in the `custom_objects` parameter of the load function.\n"
          ]
        },
        {
          "output_type": "stream",
          "name": "stdout",
          "text": [
            "\b\b\b\b\b\b\b\b\b\b\b\b\b\b\b\b\b\b\b\b\b\b\b\b\b\b\b\b\b\b\b\b\b\b\b\b\b\b\b\b\b\b\b\b\b\b\b\b\b\b\b\b\b\b\b\b\b\b\b\b\b\b\b\b\b\b\b\b\b\b\b\b\b\b\b\b\b\b\b\b\b\b\b\b\b\b\b\b\b\b\b\b\b\b\b\b\b\b\b\b\b\b\b\b\b\b\b\b\b\b\b\b\b\b\b\b\b\b\b\b\b\b\b\b\b\b\b\b\b\b\b\b\b\b\b\b\b\b\b\b\b\b\b\b\b\b\b\b\b\b\b\b\b\b\b\b\b\b\b\b\b\b\b\b\b\b\b\b\b\b\b\b\b\b\b\b\b\b\b\b\b\b\b\b\b\b\b\b\b\b\b\b\b\b\b\b\b\b\b\b\b\b\b\b\b\b\b\b\b\b\b\b\b\b\b\b\b\r5/5 [==============================] - 8s 2s/step - loss: 0.5845 - tp: 0.0000e+00 - fp: 0.0000e+00 - tn: 407.0000 - fn: 148.0000 - accuracy: 0.7333 - precision: 0.0000e+00 - recall: 0.0000e+00 - auc: 0.5070 - prc: 0.2774 - val_loss: 0.6233 - val_tp: 0.0000e+00 - val_fp: 0.0000e+00 - val_tn: 163.0000 - val_fn: 75.0000 - val_accuracy: 0.6849 - val_precision: 0.0000e+00 - val_recall: 0.0000e+00 - val_auc: 0.5146 - val_prc: 0.3421\n",
            "Epoch 4/10\n",
            "5/5 [==============================] - ETA: 0s - loss: 0.5756 - tp: 0.0000e+00 - fp: 0.0000e+00 - tn: 407.0000 - fn: 148.0000 - accuracy: 0.7333 - precision: 0.0000e+00 - recall: 0.0000e+00 - auc: 0.7838 - prc: 0.5989\n",
            "Epoch 00004: val_loss improved from 0.62330 to 0.62271, saving model to best_model\n"
          ]
        },
        {
          "output_type": "stream",
          "name": "stderr",
          "text": [
            "WARNING:absl:Found untraced functions such as lstm_cell_layer_call_fn, lstm_cell_layer_call_and_return_conditional_losses, lstm_cell_layer_call_fn, lstm_cell_layer_call_and_return_conditional_losses, lstm_cell_layer_call_and_return_conditional_losses while saving (showing 5 of 5). These functions will not be directly callable after loading.\n"
          ]
        },
        {
          "output_type": "stream",
          "name": "stdout",
          "text": [
            "INFO:tensorflow:Assets written to: best_model/assets\n"
          ]
        },
        {
          "output_type": "stream",
          "name": "stderr",
          "text": [
            "INFO:tensorflow:Assets written to: best_model/assets\n",
            "WARNING:absl:<keras.layers.recurrent.LSTMCell object at 0x7f00f5331550> has the same name 'LSTMCell' as a built-in Keras object. Consider renaming <class 'keras.layers.recurrent.LSTMCell'> to avoid naming conflicts when loading with `tf.keras.models.load_model`. If renaming is not possible, pass the object in the `custom_objects` parameter of the load function.\n"
          ]
        },
        {
          "output_type": "stream",
          "name": "stdout",
          "text": [
            "\b\b\b\b\b\b\b\b\b\b\b\b\b\b\b\b\b\b\b\b\b\b\b\b\b\b\b\b\b\b\b\b\b\b\b\b\b\b\b\b\b\b\b\b\b\b\b\b\b\b\b\b\b\b\b\b\b\b\b\b\b\b\b\b\b\b\b\b\b\b\b\b\b\b\b\b\b\b\b\b\b\b\b\b\b\b\b\b\b\b\b\b\b\b\b\b\b\b\b\b\b\b\b\b\b\b\b\b\b\b\b\b\b\b\b\b\b\b\b\b\b\b\b\b\b\b\b\b\b\b\b\b\b\b\b\b\b\b\b\b\b\b\b\b\b\b\b\b\b\b\b\b\b\b\b\b\b\b\b\b\b\b\b\b\b\b\b\b\b\b\b\b\b\b\b\b\b\b\b\b\b\b\b\b\b\b\b\b\b\b\b\b\b\b\b\b\b\b\b\b\b\b\b\b\b\b\b\b\b\b\b\b\b\b\b\b\b\r5/5 [==============================] - 8s 2s/step - loss: 0.5756 - tp: 0.0000e+00 - fp: 0.0000e+00 - tn: 407.0000 - fn: 148.0000 - accuracy: 0.7333 - precision: 0.0000e+00 - recall: 0.0000e+00 - auc: 0.7838 - prc: 0.5989 - val_loss: 0.6227 - val_tp: 0.0000e+00 - val_fp: 0.0000e+00 - val_tn: 163.0000 - val_fn: 75.0000 - val_accuracy: 0.6849 - val_precision: 0.0000e+00 - val_recall: 0.0000e+00 - val_auc: 0.5596 - val_prc: 0.3653\n",
            "Epoch 5/10\n",
            "5/5 [==============================] - ETA: 0s - loss: 0.5687 - tp: 0.0000e+00 - fp: 0.0000e+00 - tn: 407.0000 - fn: 148.0000 - accuracy: 0.7333 - precision: 0.0000e+00 - recall: 0.0000e+00 - auc: 0.8795 - prc: 0.7385\n",
            "Epoch 00005: val_loss did not improve from 0.62271\n",
            "5/5 [==============================] - 3s 560ms/step - loss: 0.5687 - tp: 0.0000e+00 - fp: 0.0000e+00 - tn: 407.0000 - fn: 148.0000 - accuracy: 0.7333 - precision: 0.0000e+00 - recall: 0.0000e+00 - auc: 0.8795 - prc: 0.7385 - val_loss: 0.6242 - val_tp: 0.0000e+00 - val_fp: 0.0000e+00 - val_tn: 163.0000 - val_fn: 75.0000 - val_accuracy: 0.6849 - val_precision: 0.0000e+00 - val_recall: 0.0000e+00 - val_auc: 0.5504 - val_prc: 0.3634\n",
            "Epoch 6/10\n",
            "5/5 [==============================] - ETA: 0s - loss: 0.5583 - tp: 0.0000e+00 - fp: 0.0000e+00 - tn: 407.0000 - fn: 148.0000 - accuracy: 0.7333 - precision: 0.0000e+00 - recall: 0.0000e+00 - auc: 0.8402 - prc: 0.6944\n",
            "Epoch 00006: val_loss did not improve from 0.62271\n",
            "5/5 [==============================] - 3s 567ms/step - loss: 0.5583 - tp: 0.0000e+00 - fp: 0.0000e+00 - tn: 407.0000 - fn: 148.0000 - accuracy: 0.7333 - precision: 0.0000e+00 - recall: 0.0000e+00 - auc: 0.8402 - prc: 0.6944 - val_loss: 0.6298 - val_tp: 0.0000e+00 - val_fp: 0.0000e+00 - val_tn: 163.0000 - val_fn: 75.0000 - val_accuracy: 0.6849 - val_precision: 0.0000e+00 - val_recall: 0.0000e+00 - val_auc: 0.5691 - val_prc: 0.3766\n",
            "Epoch 7/10\n",
            "5/5 [==============================] - ETA: 0s - loss: 0.5373 - tp: 0.0000e+00 - fp: 0.0000e+00 - tn: 407.0000 - fn: 148.0000 - accuracy: 0.7333 - precision: 0.0000e+00 - recall: 0.0000e+00 - auc: 0.9321 - prc: 0.8282\n",
            "Epoch 00007: val_loss improved from 0.62271 to 0.62036, saving model to best_model\n"
          ]
        },
        {
          "output_type": "stream",
          "name": "stderr",
          "text": [
            "WARNING:absl:Found untraced functions such as lstm_cell_layer_call_fn, lstm_cell_layer_call_and_return_conditional_losses, lstm_cell_layer_call_fn, lstm_cell_layer_call_and_return_conditional_losses, lstm_cell_layer_call_and_return_conditional_losses while saving (showing 5 of 5). These functions will not be directly callable after loading.\n"
          ]
        },
        {
          "output_type": "stream",
          "name": "stdout",
          "text": [
            "INFO:tensorflow:Assets written to: best_model/assets\n"
          ]
        },
        {
          "output_type": "stream",
          "name": "stderr",
          "text": [
            "INFO:tensorflow:Assets written to: best_model/assets\n",
            "WARNING:absl:<keras.layers.recurrent.LSTMCell object at 0x7f00f5331550> has the same name 'LSTMCell' as a built-in Keras object. Consider renaming <class 'keras.layers.recurrent.LSTMCell'> to avoid naming conflicts when loading with `tf.keras.models.load_model`. If renaming is not possible, pass the object in the `custom_objects` parameter of the load function.\n"
          ]
        },
        {
          "output_type": "stream",
          "name": "stdout",
          "text": [
            "\b\b\b\b\b\b\b\b\b\b\b\b\b\b\b\b\b\b\b\b\b\b\b\b\b\b\b\b\b\b\b\b\b\b\b\b\b\b\b\b\b\b\b\b\b\b\b\b\b\b\b\b\b\b\b\b\b\b\b\b\b\b\b\b\b\b\b\b\b\b\b\b\b\b\b\b\b\b\b\b\b\b\b\b\b\b\b\b\b\b\b\b\b\b\b\b\b\b\b\b\b\b\b\b\b\b\b\b\b\b\b\b\b\b\b\b\b\b\b\b\b\b\b\b\b\b\b\b\b\b\b\b\b\b\b\b\b\b\b\b\b\b\b\b\b\b\b\b\b\b\b\b\b\b\b\b\b\b\b\b\b\b\b\b\b\b\b\b\b\b\b\b\b\b\b\b\b\b\b\b\b\b\b\b\b\b\b\b\b\b\b\b\b\b\b\b\b\b\b\b\b\b\b\b\b\b\b\b\b\b\b\b\b\b\b\b\b\r5/5 [==============================] - 8s 2s/step - loss: 0.5373 - tp: 0.0000e+00 - fp: 0.0000e+00 - tn: 407.0000 - fn: 148.0000 - accuracy: 0.7333 - precision: 0.0000e+00 - recall: 0.0000e+00 - auc: 0.9321 - prc: 0.8282 - val_loss: 0.6204 - val_tp: 0.0000e+00 - val_fp: 0.0000e+00 - val_tn: 163.0000 - val_fn: 75.0000 - val_accuracy: 0.6849 - val_precision: 0.0000e+00 - val_recall: 0.0000e+00 - val_auc: 0.5847 - val_prc: 0.3880\n",
            "Epoch 8/10\n",
            "5/5 [==============================] - ETA: 0s - loss: 0.4919 - tp: 0.0000e+00 - fp: 0.0000e+00 - tn: 407.0000 - fn: 148.0000 - accuracy: 0.7333 - precision: 0.0000e+00 - recall: 0.0000e+00 - auc: 0.9697 - prc: 0.9262\n",
            "Epoch 00008: val_loss did not improve from 0.62036\n",
            "5/5 [==============================] - 3s 565ms/step - loss: 0.4919 - tp: 0.0000e+00 - fp: 0.0000e+00 - tn: 407.0000 - fn: 148.0000 - accuracy: 0.7333 - precision: 0.0000e+00 - recall: 0.0000e+00 - auc: 0.9697 - prc: 0.9262 - val_loss: 0.6473 - val_tp: 0.0000e+00 - val_fp: 0.0000e+00 - val_tn: 163.0000 - val_fn: 75.0000 - val_accuracy: 0.6849 - val_precision: 0.0000e+00 - val_recall: 0.0000e+00 - val_auc: 0.5984 - val_prc: 0.4050\n",
            "Epoch 9/10\n",
            "5/5 [==============================] - ETA: 0s - loss: 0.4099 - tp: 0.0000e+00 - fp: 0.0000e+00 - tn: 407.0000 - fn: 148.0000 - accuracy: 0.7333 - precision: 0.0000e+00 - recall: 0.0000e+00 - auc: 0.9552 - prc: 0.9034\n",
            "Epoch 00009: val_loss did not improve from 0.62036\n",
            "5/5 [==============================] - 3s 566ms/step - loss: 0.4099 - tp: 0.0000e+00 - fp: 0.0000e+00 - tn: 407.0000 - fn: 148.0000 - accuracy: 0.7333 - precision: 0.0000e+00 - recall: 0.0000e+00 - auc: 0.9552 - prc: 0.9034 - val_loss: 0.7041 - val_tp: 0.0000e+00 - val_fp: 0.0000e+00 - val_tn: 163.0000 - val_fn: 75.0000 - val_accuracy: 0.6849 - val_precision: 0.0000e+00 - val_recall: 0.0000e+00 - val_auc: 0.5990 - val_prc: 0.4043\n",
            "Epoch 10/10\n",
            "5/5 [==============================] - ETA: 0s - loss: 0.2773 - tp: 84.0000 - fp: 0.0000e+00 - tn: 407.0000 - fn: 64.0000 - accuracy: 0.8847 - precision: 1.0000 - recall: 0.5676 - auc: 0.9883 - prc: 0.9741\n",
            "Epoch 00010: val_loss did not improve from 0.62036\n",
            "5/5 [==============================] - 3s 566ms/step - loss: 0.2773 - tp: 84.0000 - fp: 0.0000e+00 - tn: 407.0000 - fn: 64.0000 - accuracy: 0.8847 - precision: 1.0000 - recall: 0.5676 - auc: 0.9883 - prc: 0.9741 - val_loss: 0.9238 - val_tp: 10.0000 - val_fp: 9.0000 - val_tn: 154.0000 - val_fn: 65.0000 - val_accuracy: 0.6891 - val_precision: 0.5263 - val_recall: 0.1333 - val_auc: 0.5918 - val_prc: 0.3983\n",
            "Epoch 00010: early stopping\n"
          ]
        }
      ]
    },
    {
      "cell_type": "code",
      "metadata": {
        "id": "xCoEeqGYbEqN",
        "colab": {
          "base_uri": "https://localhost:8080/"
        },
        "outputId": "bc1d5da7-20a9-4a36-e6ed-411926bc74c8"
      },
      "source": [
        "model_results = model.evaluate(X_test_seq, y_test, batch_size=128, verbose=0)\n",
        "\n",
        "for name, value in zip(model.metrics_names, model_results):\n",
        "  print(name, ': ', value)"
      ],
      "execution_count": 43,
      "outputs": [
        {
          "output_type": "stream",
          "name": "stdout",
          "text": [
            "loss :  0.9238391518592834\n",
            "tp :  10.0\n",
            "fp :  9.0\n",
            "tn :  154.0\n",
            "fn :  65.0\n",
            "accuracy :  0.6890756487846375\n",
            "precision :  0.5263158082962036\n",
            "recall :  0.13333334028720856\n",
            "auc :  0.5917791724205017\n",
            "prc :  0.39829379320144653\n"
          ]
        }
      ]
    },
    {
      "cell_type": "markdown",
      "metadata": {
        "id": "uGYk_7yz02UZ"
      },
      "source": [
        "**Generally, this model's performance panned out very poorly.**\n",
        "\n",
        "**The model's overall Accuracy of 68.9% is moderate which means both classes (False and True quotes) were correctly identified at a 68.9% rate.**\n",
        "\n",
        "**However, this model's Recall is only 0.13 which means that it's identifying only 13% of quotes to be False which is the class of interest. Of those 13%, only 52% were actually False quotes (Precision).**\n",
        "\n",
        "**The ROC AUC plots the distribution of True Positive cases vs. False Positive cases throughout different levels of thresholds. With a very low ROC AUC score of 59%, the interpretation is that the model does not perform well at distinguishing between these and is hovering around a 50/50 rate.**\n",
        "\n",
        "**The PRC came in at only 0.39 which is very low and also contributes to the overall model's poor performance.**"
      ]
    },
    {
      "cell_type": "markdown",
      "metadata": {
        "id": "uTlAh-Xzb6B1"
      },
      "source": [
        "3. Does the model have predictive value? Provide the rationale for your answer."
      ]
    },
    {
      "cell_type": "markdown",
      "metadata": {
        "id": "L4xJC1Xa56nc"
      },
      "source": [
        "**I would conclude this model does not have predictive value and will not be worthy of being implemented practically. Given the nature of the goal given this dataset (identifying False quotes), this model did not prove to be of quality for this class of interest. With a very low Precision of 52%, a model for this dataset would ideally have a much greater success rate in False quote identification.**"
      ]
    },
    {
      "cell_type": "markdown",
      "metadata": {
        "id": "yGav4Fq0cBXz"
      },
      "source": [
        "4. Develop an LSTM-based model using GloVe pre-trained embedding (from SpaCy). Assess model performance (Recall, Precision, Accuracy, ROC AUC, PR AUC)."
      ]
    },
    {
      "cell_type": "code",
      "metadata": {
        "id": "zgDw3WyOcHHS",
        "colab": {
          "base_uri": "https://localhost:8080/"
        },
        "outputId": "496e5f1b-b005-4bca-a766-af722a272422"
      },
      "source": [
        "!python -m spacy download en_core_web_lg"
      ],
      "execution_count": 44,
      "outputs": [
        {
          "output_type": "stream",
          "name": "stdout",
          "text": [
            "Collecting en_core_web_lg==2.2.5\n",
            "  Downloading https://github.com/explosion/spacy-models/releases/download/en_core_web_lg-2.2.5/en_core_web_lg-2.2.5.tar.gz (827.9 MB)\n",
            "\u001b[K     |████████████████████████████████| 827.9 MB 1.3 MB/s \n",
            "\u001b[?25hRequirement already satisfied: spacy>=2.2.2 in /usr/local/lib/python3.7/dist-packages (from en_core_web_lg==2.2.5) (2.2.4)\n",
            "Requirement already satisfied: murmurhash<1.1.0,>=0.28.0 in /usr/local/lib/python3.7/dist-packages (from spacy>=2.2.2->en_core_web_lg==2.2.5) (1.0.6)\n",
            "Requirement already satisfied: plac<1.2.0,>=0.9.6 in /usr/local/lib/python3.7/dist-packages (from spacy>=2.2.2->en_core_web_lg==2.2.5) (1.1.3)\n",
            "Requirement already satisfied: preshed<3.1.0,>=3.0.2 in /usr/local/lib/python3.7/dist-packages (from spacy>=2.2.2->en_core_web_lg==2.2.5) (3.0.6)\n",
            "Requirement already satisfied: numpy>=1.15.0 in /usr/local/lib/python3.7/dist-packages (from spacy>=2.2.2->en_core_web_lg==2.2.5) (1.19.5)\n",
            "Requirement already satisfied: cymem<2.1.0,>=2.0.2 in /usr/local/lib/python3.7/dist-packages (from spacy>=2.2.2->en_core_web_lg==2.2.5) (2.0.6)\n",
            "Requirement already satisfied: catalogue<1.1.0,>=0.0.7 in /usr/local/lib/python3.7/dist-packages (from spacy>=2.2.2->en_core_web_lg==2.2.5) (1.0.0)\n",
            "Requirement already satisfied: tqdm<5.0.0,>=4.38.0 in /usr/local/lib/python3.7/dist-packages (from spacy>=2.2.2->en_core_web_lg==2.2.5) (4.62.3)\n",
            "Requirement already satisfied: setuptools in /usr/local/lib/python3.7/dist-packages (from spacy>=2.2.2->en_core_web_lg==2.2.5) (57.4.0)\n",
            "Requirement already satisfied: wasabi<1.1.0,>=0.4.0 in /usr/local/lib/python3.7/dist-packages (from spacy>=2.2.2->en_core_web_lg==2.2.5) (0.8.2)\n",
            "Requirement already satisfied: thinc==7.4.0 in /usr/local/lib/python3.7/dist-packages (from spacy>=2.2.2->en_core_web_lg==2.2.5) (7.4.0)\n",
            "Requirement already satisfied: blis<0.5.0,>=0.4.0 in /usr/local/lib/python3.7/dist-packages (from spacy>=2.2.2->en_core_web_lg==2.2.5) (0.4.1)\n",
            "Requirement already satisfied: requests<3.0.0,>=2.13.0 in /usr/local/lib/python3.7/dist-packages (from spacy>=2.2.2->en_core_web_lg==2.2.5) (2.23.0)\n",
            "Requirement already satisfied: srsly<1.1.0,>=1.0.2 in /usr/local/lib/python3.7/dist-packages (from spacy>=2.2.2->en_core_web_lg==2.2.5) (1.0.5)\n",
            "Requirement already satisfied: importlib-metadata>=0.20 in /usr/local/lib/python3.7/dist-packages (from catalogue<1.1.0,>=0.0.7->spacy>=2.2.2->en_core_web_lg==2.2.5) (4.8.2)\n",
            "Requirement already satisfied: zipp>=0.5 in /usr/local/lib/python3.7/dist-packages (from importlib-metadata>=0.20->catalogue<1.1.0,>=0.0.7->spacy>=2.2.2->en_core_web_lg==2.2.5) (3.6.0)\n",
            "Requirement already satisfied: typing-extensions>=3.6.4 in /usr/local/lib/python3.7/dist-packages (from importlib-metadata>=0.20->catalogue<1.1.0,>=0.0.7->spacy>=2.2.2->en_core_web_lg==2.2.5) (3.10.0.2)\n",
            "Requirement already satisfied: chardet<4,>=3.0.2 in /usr/local/lib/python3.7/dist-packages (from requests<3.0.0,>=2.13.0->spacy>=2.2.2->en_core_web_lg==2.2.5) (3.0.4)\n",
            "Requirement already satisfied: certifi>=2017.4.17 in /usr/local/lib/python3.7/dist-packages (from requests<3.0.0,>=2.13.0->spacy>=2.2.2->en_core_web_lg==2.2.5) (2021.10.8)\n",
            "Requirement already satisfied: urllib3!=1.25.0,!=1.25.1,<1.26,>=1.21.1 in /usr/local/lib/python3.7/dist-packages (from requests<3.0.0,>=2.13.0->spacy>=2.2.2->en_core_web_lg==2.2.5) (1.24.3)\n",
            "Requirement already satisfied: idna<3,>=2.5 in /usr/local/lib/python3.7/dist-packages (from requests<3.0.0,>=2.13.0->spacy>=2.2.2->en_core_web_lg==2.2.5) (2.10)\n",
            "Building wheels for collected packages: en-core-web-lg\n",
            "  Building wheel for en-core-web-lg (setup.py) ... \u001b[?25l\u001b[?25hdone\n",
            "  Created wheel for en-core-web-lg: filename=en_core_web_lg-2.2.5-py3-none-any.whl size=829180942 sha256=e814ee8b93455bea243e527701dd75e6accd406a68a0a8e973f028a068e219a6\n",
            "  Stored in directory: /tmp/pip-ephem-wheel-cache-8cauc1zc/wheels/11/95/ba/2c36cc368c0bd339b44a791c2c1881a1fb714b78c29a4cb8f5\n",
            "Successfully built en-core-web-lg\n",
            "Installing collected packages: en-core-web-lg\n",
            "Successfully installed en-core-web-lg-2.2.5\n",
            "\u001b[38;5;2m✔ Download and installation successful\u001b[0m\n",
            "You can now load the model via spacy.load('en_core_web_lg')\n"
          ]
        }
      ]
    },
    {
      "cell_type": "code",
      "metadata": {
        "id": "W2XMLhdDcU7_"
      },
      "source": [
        "import en_core_web_lg\n",
        "\n",
        "nlp = en_core_web_lg.load()\n",
        "Vectorizer = TextVectorization()"
      ],
      "execution_count": 45,
      "outputs": []
    },
    {
      "cell_type": "code",
      "metadata": {
        "id": "338OGCc5ct36"
      },
      "source": [
        "Vectorizer.adapt(np.array(X_train).astype(str))\n",
        "vocab = Vectorizer.get_vocabulary()\n",
        "\n",
        "num_tokens = len(vocab)\n",
        "embedding_dim = len(nlp('The').vector)\n",
        "embedding_matrix = np.zeros((num_tokens, embedding_dim))\n",
        "for i, word in enumerate(vocab):\n",
        "  embedding_matrix[i] = nlp(str(word)).vector\n",
        "\n",
        "Embedding_layer=Embedding(\n",
        "    num_tokens,\n",
        "    embedding_dim,\n",
        "    embeddings_initializer=Constant(embedding_matrix),\n",
        "    trainable=False)"
      ],
      "execution_count": 46,
      "outputs": []
    },
    {
      "cell_type": "code",
      "metadata": {
        "id": "G6HreFmZfK6f",
        "colab": {
          "base_uri": "https://localhost:8080/"
        },
        "outputId": "e5fec6ab-1c10-460e-cdd1-f6f4d42a7178"
      },
      "source": [
        "clear_session()\n",
        "\n",
        "model2 = Sequential()\n",
        "model2.add(Input(shape=(1,), dtype=tf.string))\n",
        "\n",
        "model2.add(Vectorizer)\n",
        "model2.add(Embedding_layer)\n",
        "\n",
        "model2.add(LSTM(128,return_sequences=True,dropout=0.2))\n",
        "\n",
        "model2.add(GlobalMaxPooling1D())\n",
        "\n",
        "model2.add(Dense(64,activation='relu'))\n",
        "model2.add(Dense(1,activation='sigmoid'))\n",
        "\n",
        "model2.compile(optimizer='adam', loss='binary_crossentropy', metrics=METRICS)\n",
        "\n",
        "es = EarlyStopping(monitor='val_loss', mode='min', verbose=1, patience=3)\n",
        "mc = ModelCheckpoint('best_model2', monitor='val_loss', mode='min',\n",
        "                     save_best_only=True, save_weights_only=False, verbose=1)\n",
        "\n",
        "print(model2.summary())"
      ],
      "execution_count": 47,
      "outputs": [
        {
          "output_type": "stream",
          "name": "stdout",
          "text": [
            "Model: \"sequential\"\n",
            "_________________________________________________________________\n",
            " Layer (type)                Output Shape              Param #   \n",
            "=================================================================\n",
            " text_vectorization (TextVec  (None, None)             0         \n",
            " torization)                                                     \n",
            "                                                                 \n",
            " embedding_1 (Embedding)     (None, None, 300)         708300    \n",
            "                                                                 \n",
            " lstm (LSTM)                 (None, None, 128)         219648    \n",
            "                                                                 \n",
            " global_max_pooling1d (Globa  (None, 128)              0         \n",
            " lMaxPooling1D)                                                  \n",
            "                                                                 \n",
            " dense (Dense)               (None, 64)                8256      \n",
            "                                                                 \n",
            " dense_1 (Dense)             (None, 1)                 65        \n",
            "                                                                 \n",
            "=================================================================\n",
            "Total params: 936,269\n",
            "Trainable params: 227,969\n",
            "Non-trainable params: 708,300\n",
            "_________________________________________________________________\n",
            "None\n"
          ]
        }
      ]
    },
    {
      "cell_type": "code",
      "metadata": {
        "id": "NSVF7EVEG8fZ",
        "colab": {
          "base_uri": "https://localhost:8080/"
        },
        "outputId": "430656dd-693c-43bc-b136-f1ee0ff10a5c"
      },
      "source": [
        "history2 = model2.fit(X_train, y_train, batch_size=128, epochs=10,\n",
        "                      validation_data=(X_test, y_test), verbose=1, callbacks=[es,mc])"
      ],
      "execution_count": 49,
      "outputs": [
        {
          "output_type": "stream",
          "name": "stdout",
          "text": [
            "Epoch 1/10\n",
            "5/5 [==============================] - ETA: 0s - loss: 0.6052 - tp: 10.0000 - fp: 9.0000 - tn: 561.0000 - fn: 213.0000 - accuracy: 0.7201 - precision: 0.5263 - recall: 0.0448 - auc: 0.5249 - prc: 0.3232\n",
            "Epoch 00001: val_loss improved from inf to 0.63248, saving model to best_model2\n"
          ]
        },
        {
          "output_type": "stream",
          "name": "stderr",
          "text": [
            "WARNING:absl:Found untraced functions such as lstm_cell_layer_call_fn, lstm_cell_layer_call_and_return_conditional_losses, lstm_cell_layer_call_fn, lstm_cell_layer_call_and_return_conditional_losses, lstm_cell_layer_call_and_return_conditional_losses while saving (showing 5 of 5). These functions will not be directly callable after loading.\n"
          ]
        },
        {
          "output_type": "stream",
          "name": "stdout",
          "text": [
            "INFO:tensorflow:Assets written to: best_model2/assets\n"
          ]
        },
        {
          "output_type": "stream",
          "name": "stderr",
          "text": [
            "INFO:tensorflow:Assets written to: best_model2/assets\n",
            "WARNING:absl:<keras.layers.recurrent.LSTMCell object at 0x7f00f2102610> has the same name 'LSTMCell' as a built-in Keras object. Consider renaming <class 'keras.layers.recurrent.LSTMCell'> to avoid naming conflicts when loading with `tf.keras.models.load_model`. If renaming is not possible, pass the object in the `custom_objects` parameter of the load function.\n"
          ]
        },
        {
          "output_type": "stream",
          "name": "stdout",
          "text": [
            "5/5 [==============================] - 16s 3s/step - loss: 0.6052 - tp: 10.0000 - fp: 9.0000 - tn: 561.0000 - fn: 213.0000 - accuracy: 0.7201 - precision: 0.5263 - recall: 0.0448 - auc: 0.5249 - prc: 0.3232 - val_loss: 0.6325 - val_tp: 0.0000e+00 - val_fp: 0.0000e+00 - val_tn: 163.0000 - val_fn: 75.0000 - val_accuracy: 0.6849 - val_precision: 0.0000e+00 - val_recall: 0.0000e+00 - val_auc: 0.5858 - val_prc: 0.3864\n",
            "Epoch 2/10\n",
            "5/5 [==============================] - ETA: 0s - loss: 0.5761 - tp: 0.0000e+00 - fp: 0.0000e+00 - tn: 407.0000 - fn: 148.0000 - accuracy: 0.7333 - precision: 0.0000e+00 - recall: 0.0000e+00 - auc: 0.6100 - prc: 0.3807\n",
            "Epoch 00002: val_loss improved from 0.63248 to 0.63083, saving model to best_model2\n"
          ]
        },
        {
          "output_type": "stream",
          "name": "stderr",
          "text": [
            "WARNING:absl:Found untraced functions such as lstm_cell_layer_call_fn, lstm_cell_layer_call_and_return_conditional_losses, lstm_cell_layer_call_fn, lstm_cell_layer_call_and_return_conditional_losses, lstm_cell_layer_call_and_return_conditional_losses while saving (showing 5 of 5). These functions will not be directly callable after loading.\n"
          ]
        },
        {
          "output_type": "stream",
          "name": "stdout",
          "text": [
            "INFO:tensorflow:Assets written to: best_model2/assets\n"
          ]
        },
        {
          "output_type": "stream",
          "name": "stderr",
          "text": [
            "INFO:tensorflow:Assets written to: best_model2/assets\n",
            "WARNING:absl:<keras.layers.recurrent.LSTMCell object at 0x7f00f2102610> has the same name 'LSTMCell' as a built-in Keras object. Consider renaming <class 'keras.layers.recurrent.LSTMCell'> to avoid naming conflicts when loading with `tf.keras.models.load_model`. If renaming is not possible, pass the object in the `custom_objects` parameter of the load function.\n"
          ]
        },
        {
          "output_type": "stream",
          "name": "stdout",
          "text": [
            "5/5 [==============================] - 11s 3s/step - loss: 0.5761 - tp: 0.0000e+00 - fp: 0.0000e+00 - tn: 407.0000 - fn: 148.0000 - accuracy: 0.7333 - precision: 0.0000e+00 - recall: 0.0000e+00 - auc: 0.6100 - prc: 0.3807 - val_loss: 0.6308 - val_tp: 0.0000e+00 - val_fp: 0.0000e+00 - val_tn: 163.0000 - val_fn: 75.0000 - val_accuracy: 0.6849 - val_precision: 0.0000e+00 - val_recall: 0.0000e+00 - val_auc: 0.5883 - val_prc: 0.3852\n",
            "Epoch 3/10\n",
            "5/5 [==============================] - ETA: 0s - loss: 0.5612 - tp: 0.0000e+00 - fp: 0.0000e+00 - tn: 407.0000 - fn: 148.0000 - accuracy: 0.7333 - precision: 0.0000e+00 - recall: 0.0000e+00 - auc: 0.6780 - prc: 0.4522\n",
            "Epoch 00003: val_loss improved from 0.63083 to 0.61679, saving model to best_model2\n"
          ]
        },
        {
          "output_type": "stream",
          "name": "stderr",
          "text": [
            "WARNING:absl:Found untraced functions such as lstm_cell_layer_call_fn, lstm_cell_layer_call_and_return_conditional_losses, lstm_cell_layer_call_fn, lstm_cell_layer_call_and_return_conditional_losses, lstm_cell_layer_call_and_return_conditional_losses while saving (showing 5 of 5). These functions will not be directly callable after loading.\n"
          ]
        },
        {
          "output_type": "stream",
          "name": "stdout",
          "text": [
            "INFO:tensorflow:Assets written to: best_model2/assets\n"
          ]
        },
        {
          "output_type": "stream",
          "name": "stderr",
          "text": [
            "INFO:tensorflow:Assets written to: best_model2/assets\n",
            "WARNING:absl:<keras.layers.recurrent.LSTMCell object at 0x7f00f2102610> has the same name 'LSTMCell' as a built-in Keras object. Consider renaming <class 'keras.layers.recurrent.LSTMCell'> to avoid naming conflicts when loading with `tf.keras.models.load_model`. If renaming is not possible, pass the object in the `custom_objects` parameter of the load function.\n"
          ]
        },
        {
          "output_type": "stream",
          "name": "stdout",
          "text": [
            "\b\b\b\b\b\b\b\b\b\b\b\b\b\b\b\b\b\b\b\b\b\b\b\b\b\b\b\b\b\b\b\b\b\b\b\b\b\b\b\b\b\b\b\b\b\b\b\b\b\b\b\b\b\b\b\b\b\b\b\b\b\b\b\b\b\b\b\b\b\b\b\b\b\b\b\b\b\b\b\b\b\b\b\b\b\b\b\b\b\b\b\b\b\b\b\b\b\b\b\b\b\b\b\b\b\b\b\b\b\b\b\b\b\b\b\b\b\b\b\b\b\b\b\b\b\b\b\b\b\b\b\b\b\b\b\b\b\b\b\b\b\b\b\b\b\b\b\b\b\b\b\b\b\b\b\b\b\b\b\b\b\b\b\b\b\b\b\b\b\b\b\b\b\b\b\b\b\b\b\b\b\b\b\b\b\b\b\b\b\b\b\b\b\b\b\b\b\b\b\b\b\b\b\b\b\b\b\b\b\b\b\b\b\b\b\b\b\r5/5 [==============================] - 10s 2s/step - loss: 0.5612 - tp: 0.0000e+00 - fp: 0.0000e+00 - tn: 407.0000 - fn: 148.0000 - accuracy: 0.7333 - precision: 0.0000e+00 - recall: 0.0000e+00 - auc: 0.6780 - prc: 0.4522 - val_loss: 0.6168 - val_tp: 0.0000e+00 - val_fp: 0.0000e+00 - val_tn: 163.0000 - val_fn: 75.0000 - val_accuracy: 0.6849 - val_precision: 0.0000e+00 - val_recall: 0.0000e+00 - val_auc: 0.5758 - val_prc: 0.3875\n",
            "Epoch 4/10\n",
            "5/5 [==============================] - ETA: 0s - loss: 0.5592 - tp: 0.0000e+00 - fp: 0.0000e+00 - tn: 407.0000 - fn: 148.0000 - accuracy: 0.7333 - precision: 0.0000e+00 - recall: 0.0000e+00 - auc: 0.7124 - prc: 0.5017\n",
            "Epoch 00004: val_loss improved from 0.61679 to 0.61478, saving model to best_model2\n"
          ]
        },
        {
          "output_type": "stream",
          "name": "stderr",
          "text": [
            "WARNING:absl:Found untraced functions such as lstm_cell_layer_call_fn, lstm_cell_layer_call_and_return_conditional_losses, lstm_cell_layer_call_fn, lstm_cell_layer_call_and_return_conditional_losses, lstm_cell_layer_call_and_return_conditional_losses while saving (showing 5 of 5). These functions will not be directly callable after loading.\n"
          ]
        },
        {
          "output_type": "stream",
          "name": "stdout",
          "text": [
            "INFO:tensorflow:Assets written to: best_model2/assets\n"
          ]
        },
        {
          "output_type": "stream",
          "name": "stderr",
          "text": [
            "INFO:tensorflow:Assets written to: best_model2/assets\n",
            "WARNING:absl:<keras.layers.recurrent.LSTMCell object at 0x7f00f2102610> has the same name 'LSTMCell' as a built-in Keras object. Consider renaming <class 'keras.layers.recurrent.LSTMCell'> to avoid naming conflicts when loading with `tf.keras.models.load_model`. If renaming is not possible, pass the object in the `custom_objects` parameter of the load function.\n"
          ]
        },
        {
          "output_type": "stream",
          "name": "stdout",
          "text": [
            "\b\b\b\b\b\b\b\b\b\b\b\b\b\b\b\b\b\b\b\b\b\b\b\b\b\b\b\b\b\b\b\b\b\b\b\b\b\b\b\b\b\b\b\b\b\b\b\b\b\b\b\b\b\b\b\b\b\b\b\b\b\b\b\b\b\b\b\b\b\b\b\b\b\b\b\b\b\b\b\b\b\b\b\b\b\b\b\b\b\b\b\b\b\b\b\b\b\b\b\b\b\b\b\b\b\b\b\b\b\b\b\b\b\b\b\b\b\b\b\b\b\b\b\b\b\b\b\b\b\b\b\b\b\b\b\b\b\b\b\b\b\b\b\b\b\b\b\b\b\b\b\b\b\b\b\b\b\b\b\b\b\b\b\b\b\b\b\b\b\b\b\b\b\b\b\b\b\b\b\b\b\b\b\b\b\b\b\b\b\b\b\b\b\b\b\b\b\b\b\b\b\b\b\b\b\b\b\b\b\b\b\b\b\b\b\b\b\r5/5 [==============================] - 11s 3s/step - loss: 0.5592 - tp: 0.0000e+00 - fp: 0.0000e+00 - tn: 407.0000 - fn: 148.0000 - accuracy: 0.7333 - precision: 0.0000e+00 - recall: 0.0000e+00 - auc: 0.7124 - prc: 0.5017 - val_loss: 0.6148 - val_tp: 0.0000e+00 - val_fp: 0.0000e+00 - val_tn: 163.0000 - val_fn: 75.0000 - val_accuracy: 0.6849 - val_precision: 0.0000e+00 - val_recall: 0.0000e+00 - val_auc: 0.5790 - val_prc: 0.3947\n",
            "Epoch 5/10\n",
            "5/5 [==============================] - ETA: 0s - loss: 0.5463 - tp: 0.0000e+00 - fp: 0.0000e+00 - tn: 407.0000 - fn: 148.0000 - accuracy: 0.7333 - precision: 0.0000e+00 - recall: 0.0000e+00 - auc: 0.7427 - prc: 0.5369\n",
            "Epoch 00005: val_loss did not improve from 0.61478\n",
            "5/5 [==============================] - 1s 201ms/step - loss: 0.5463 - tp: 0.0000e+00 - fp: 0.0000e+00 - tn: 407.0000 - fn: 148.0000 - accuracy: 0.7333 - precision: 0.0000e+00 - recall: 0.0000e+00 - auc: 0.7427 - prc: 0.5369 - val_loss: 0.6179 - val_tp: 0.0000e+00 - val_fp: 0.0000e+00 - val_tn: 163.0000 - val_fn: 75.0000 - val_accuracy: 0.6849 - val_precision: 0.0000e+00 - val_recall: 0.0000e+00 - val_auc: 0.6026 - val_prc: 0.4133\n",
            "Epoch 6/10\n",
            "5/5 [==============================] - ETA: 0s - loss: 0.5335 - tp: 0.0000e+00 - fp: 0.0000e+00 - tn: 407.0000 - fn: 148.0000 - accuracy: 0.7333 - precision: 0.0000e+00 - recall: 0.0000e+00 - auc: 0.7626 - prc: 0.5583\n",
            "Epoch 00006: val_loss did not improve from 0.61478\n",
            "5/5 [==============================] - 1s 220ms/step - loss: 0.5335 - tp: 0.0000e+00 - fp: 0.0000e+00 - tn: 407.0000 - fn: 148.0000 - accuracy: 0.7333 - precision: 0.0000e+00 - recall: 0.0000e+00 - auc: 0.7626 - prc: 0.5583 - val_loss: 0.6191 - val_tp: 0.0000e+00 - val_fp: 0.0000e+00 - val_tn: 163.0000 - val_fn: 75.0000 - val_accuracy: 0.6849 - val_precision: 0.0000e+00 - val_recall: 0.0000e+00 - val_auc: 0.6097 - val_prc: 0.4171\n",
            "Epoch 7/10\n",
            "5/5 [==============================] - ETA: 0s - loss: 0.5199 - tp: 0.0000e+00 - fp: 0.0000e+00 - tn: 407.0000 - fn: 148.0000 - accuracy: 0.7333 - precision: 0.0000e+00 - recall: 0.0000e+00 - auc: 0.7639 - prc: 0.5214\n",
            "Epoch 00007: val_loss improved from 0.61478 to 0.60635, saving model to best_model2\n"
          ]
        },
        {
          "output_type": "stream",
          "name": "stderr",
          "text": [
            "WARNING:absl:Found untraced functions such as lstm_cell_layer_call_fn, lstm_cell_layer_call_and_return_conditional_losses, lstm_cell_layer_call_fn, lstm_cell_layer_call_and_return_conditional_losses, lstm_cell_layer_call_and_return_conditional_losses while saving (showing 5 of 5). These functions will not be directly callable after loading.\n"
          ]
        },
        {
          "output_type": "stream",
          "name": "stdout",
          "text": [
            "INFO:tensorflow:Assets written to: best_model2/assets\n"
          ]
        },
        {
          "output_type": "stream",
          "name": "stderr",
          "text": [
            "INFO:tensorflow:Assets written to: best_model2/assets\n",
            "WARNING:absl:<keras.layers.recurrent.LSTMCell object at 0x7f00f2102610> has the same name 'LSTMCell' as a built-in Keras object. Consider renaming <class 'keras.layers.recurrent.LSTMCell'> to avoid naming conflicts when loading with `tf.keras.models.load_model`. If renaming is not possible, pass the object in the `custom_objects` parameter of the load function.\n"
          ]
        },
        {
          "output_type": "stream",
          "name": "stdout",
          "text": [
            "\b\b\b\b\b\b\b\b\b\b\b\b\b\b\b\b\b\b\b\b\b\b\b\b\b\b\b\b\b\b\b\b\b\b\b\b\b\b\b\b\b\b\b\b\b\b\b\b\b\b\b\b\b\b\b\b\b\b\b\b\b\b\b\b\b\b\b\b\b\b\b\b\b\b\b\b\b\b\b\b\b\b\b\b\b\b\b\b\b\b\b\b\b\b\b\b\b\b\b\b\b\b\b\b\b\b\b\b\b\b\b\b\b\b\b\b\b\b\b\b\b\b\b\b\b\b\b\b\b\b\b\b\b\b\b\b\b\b\b\b\b\b\b\b\b\b\b\b\b\b\b\b\b\b\b\b\b\b\b\b\b\b\b\b\b\b\b\b\b\b\b\b\b\b\b\b\b\b\b\b\b\b\b\b\b\b\b\b\b\b\b\b\b\b\b\b\b\b\b\b\b\b\b\b\b\b\b\b\b\b\b\b\b\b\b\b\b\r5/5 [==============================] - 10s 2s/step - loss: 0.5199 - tp: 0.0000e+00 - fp: 0.0000e+00 - tn: 407.0000 - fn: 148.0000 - accuracy: 0.7333 - precision: 0.0000e+00 - recall: 0.0000e+00 - auc: 0.7639 - prc: 0.5214 - val_loss: 0.6064 - val_tp: 1.0000 - val_fp: 1.0000 - val_tn: 162.0000 - val_fn: 74.0000 - val_accuracy: 0.6849 - val_precision: 0.5000 - val_recall: 0.0133 - val_auc: 0.6252 - val_prc: 0.4218\n",
            "Epoch 8/10\n",
            "5/5 [==============================] - ETA: 0s - loss: 0.4962 - tp: 5.0000 - fp: 1.0000 - tn: 406.0000 - fn: 143.0000 - accuracy: 0.7405 - precision: 0.8333 - recall: 0.0338 - auc: 0.7931 - prc: 0.5979\n",
            "Epoch 00008: val_loss did not improve from 0.60635\n",
            "5/5 [==============================] - 1s 203ms/step - loss: 0.4962 - tp: 5.0000 - fp: 1.0000 - tn: 406.0000 - fn: 143.0000 - accuracy: 0.7405 - precision: 0.8333 - recall: 0.0338 - auc: 0.7931 - prc: 0.5979 - val_loss: 0.6180 - val_tp: 7.0000 - val_fp: 6.0000 - val_tn: 157.0000 - val_fn: 68.0000 - val_accuracy: 0.6891 - val_precision: 0.5385 - val_recall: 0.0933 - val_auc: 0.6359 - val_prc: 0.4290\n",
            "Epoch 9/10\n",
            "5/5 [==============================] - ETA: 0s - loss: 0.4811 - tp: 33.0000 - fp: 14.0000 - tn: 393.0000 - fn: 115.0000 - accuracy: 0.7676 - precision: 0.7021 - recall: 0.2230 - auc: 0.7871 - prc: 0.5726\n",
            "Epoch 00009: val_loss did not improve from 0.60635\n",
            "5/5 [==============================] - 1s 216ms/step - loss: 0.4811 - tp: 33.0000 - fp: 14.0000 - tn: 393.0000 - fn: 115.0000 - accuracy: 0.7676 - precision: 0.7021 - recall: 0.2230 - auc: 0.7871 - prc: 0.5726 - val_loss: 0.6333 - val_tp: 14.0000 - val_fp: 17.0000 - val_tn: 146.0000 - val_fn: 61.0000 - val_accuracy: 0.6723 - val_precision: 0.4516 - val_recall: 0.1867 - val_auc: 0.6362 - val_prc: 0.4180\n",
            "Epoch 10/10\n",
            "5/5 [==============================] - ETA: 0s - loss: 0.4764 - tp: 45.0000 - fp: 26.0000 - tn: 381.0000 - fn: 103.0000 - accuracy: 0.7676 - precision: 0.6338 - recall: 0.3041 - auc: 0.7867 - prc: 0.5860\n",
            "Epoch 00010: val_loss did not improve from 0.60635\n",
            "5/5 [==============================] - 1s 206ms/step - loss: 0.4764 - tp: 45.0000 - fp: 26.0000 - tn: 381.0000 - fn: 103.0000 - accuracy: 0.7676 - precision: 0.6338 - recall: 0.3041 - auc: 0.7867 - prc: 0.5860 - val_loss: 0.6433 - val_tp: 25.0000 - val_fp: 32.0000 - val_tn: 131.0000 - val_fn: 50.0000 - val_accuracy: 0.6555 - val_precision: 0.4386 - val_recall: 0.3333 - val_auc: 0.6140 - val_prc: 0.3974\n",
            "Epoch 00010: early stopping\n"
          ]
        }
      ]
    },
    {
      "cell_type": "code",
      "metadata": {
        "id": "G37z7dYShA4o",
        "colab": {
          "base_uri": "https://localhost:8080/"
        },
        "outputId": "b0f5776e-9585-41e1-dd5f-855b8f4e1e54"
      },
      "source": [
        "model2_results = model2.evaluate(X_test, y_test, batch_size=128, verbose=0)\n",
        "\n",
        "for name, value in zip(model2.metrics_names, model2_results):\n",
        "  print(name, ': ', value)"
      ],
      "execution_count": 50,
      "outputs": [
        {
          "output_type": "stream",
          "name": "stdout",
          "text": [
            "loss :  0.6432709097862244\n",
            "tp :  25.0\n",
            "fp :  32.0\n",
            "tn :  131.0\n",
            "fn :  50.0\n",
            "accuracy :  0.6554622054100037\n",
            "precision :  0.4385964870452881\n",
            "recall :  0.3333333432674408\n",
            "auc :  0.6140286326408386\n",
            "prc :  0.3974123001098633\n"
          ]
        }
      ]
    },
    {
      "cell_type": "markdown",
      "metadata": {
        "id": "wtQrhxQI7LSm"
      },
      "source": [
        "**Overall, this model's results are just about as poor as the first models'.**\n",
        "\n",
        "**The second model's Accuracy is slightly worse than the first model at being able to be correct on any class prediction only 65.5% of the time.**\n",
        "\n",
        "**Although this model does show a much higher Recall rate than the first model (33% vs 13%), This model's Precision is drastically worse than the first model (43.8% vs 52.6%). This means that while this model can identify 1/3 of quotes as being False (which is very low as it is), only about 44% of them are actually False.**\n",
        "\n",
        "**This model has slightly higher ROC AUC score- 61%. This means that the model does not perform well at distinguishing between TP vs. FP cases throughout specific thresholds.**\n",
        "\n",
        "**Finally, PRC is practically the same in both models at about 0.4**"
      ]
    },
    {
      "cell_type": "markdown",
      "metadata": {
        "id": "KZfnymxohh99"
      },
      "source": [
        "5. Does the model have predictive value? Provide the rationale for your answer."
      ]
    },
    {
      "cell_type": "markdown",
      "metadata": {
        "id": "FeiytotO96zF"
      },
      "source": [
        "**This model does not have predictive value. While it does have a higher Recall than the first model, it is incorrect on False labeling more often than the first model (43.8% Precision). Additionally, its overall Accuracy is lower. Given the nature of our dataset, a model that has high Precision and a higher Accuracy rate would be necessary for our objective.**"
      ]
    }
  ]
}